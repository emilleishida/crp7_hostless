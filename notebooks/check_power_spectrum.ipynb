{
 "cells": [
  {
   "cell_type": "code",
   "execution_count": 1,
   "id": "f08000da-9787-444c-b79d-b670eb4ddcde",
   "metadata": {},
   "outputs": [],
   "source": [
    "import pandas as pd\n",
    "import matplotlib.pylab as plt\n",
    "import numpy as np\n",
    "import os\n",
    "import glob"
   ]
  },
  {
   "cell_type": "code",
   "execution_count": 2,
   "id": "8405dce6-ea7c-4e8f-a468-a0ac9efdfeb2",
   "metadata": {},
   "outputs": [],
   "source": [
    "data_wanted = pd.read_csv('../data/from_lilianne.dat', delim_whitespace=True, \n",
    "                          usecols=['idx','objectID','hostless'])\n",
    "\n",
    "wanted_names = list(data_wanted[data_wanted['hostless']]['objectID']) + ['ZTF23abdynfn','ZTF22aaaihet','ZTF23absflyh',\n",
    "                                                                         'ZTF23aarlxdf','ZTF23aawhcjb','ZTF23aajenxf',\n",
    "                'ZTF22aaljlzq','ZTF22abnwvyc','ZTF23aabtgej','ZTF22aadeuwu','ZTF23aafmjbx','ZTF23aagaiju',\n",
    "                'ZTF22aaahull','ZTF22aaszlph','ZTF23aaqfdby','ZTF22abzvyku','ZTF22aahhubz','ZTF23aaelzdb',\n",
    "                'ZTF23aboebgh','ZTF23aamxeoe','ZTF23aamqonh','ZTF22abtltcw','ZTF22aaausrb','ZTF21abiwpjm',\n",
    "                'ZTF22abvaggn','ZTF22abyuoan','ZTF20aayvmyh','ZTF22aaaeohg','ZTF22aasaapb','ZTF22aalmrqp',\n",
    "                'ZTF23aanukvi','ZTF22abmpqbq','ZTF23abbsfxp','ZTF22aaombjf','ZTF22abzbyyw','ZTF22abfxmvf',\n",
    "                'ZTF22aaafohf','ZTF22abfyvhf','ZTF22aafumyr','ZTF23aakmewi','ZTF23ablspnz','ZTF23aanuvih',\n",
    "                'ZTF22aahecwj','ZTF22abnqzle','ZTF23aafggjj','ZTF22aaogwbd','ZTF22aadetzs','ZTF23aapvrkk',\n",
    "                'ZTF23abgsmsg','ZTF22abjafpr','ZTF23aamsekn','ZTF23abcqzvm','ZTF23abgvtxr','ZTF22aajhtpy',\n",
    "                'ZTF22abvngdr','ZTF23aaazegi','ZTF22aaagvyp','ZTF23aaejvzv','ZTF23abgzmfs','ZTF23abcufxh',\n",
    "                'ZTF22aapuake','ZTF22aadlmgg','ZTF22aasoali','ZTF23abaslfm','ZTF22ablhldn','ZTF22abtotgu',\n",
    "                'ZTF23aagdbbv','ZTF23aaxyawz','ZTF22aaftcmp','ZTF23abqygjv','ZTF18aaapivw']\n",
    "\n",
    "wanted_names = np.unique(np.array(wanted_names))\n",
    "\n",
    "should_not_survive = ['ZTF22aauiabm',\n",
    "'ZTF23abmoxlu',\n",
    "'ZTF23aaiyexs',\n",
    "'ZTF22aakdbia',\n",
    "'ZTF22abbausm',\n",
    "'ZTF22aaajjcq',\n",
    "'ZTF22aazmooy',\n",
    "'ZTF23aaaairl',\n",
    "'ZTF22aafoqrd',\n",
    "'ZTF23absbyol',\n",
    "'ZTF22aanrqje',\n",
    "'ZTF23aadvjqb',\n",
    "'ZTF22abzakdd',\n",
    "'ZTF22aagzbux',\n",
    "'ZTF22absxatm',\n",
    "'ZTF22aapubuy',\n",
    "'ZTF23aajlkxc',\n",
    "'ZTF22aboixdd',\n",
    "'ZTF23aaawcvx',\n",
    "'ZTF22aabtyli',\n",
    "'ZTF22abahblc',\n",
    "'ZTF19abszdld',\n",
    "'ZTF22aahebcu','ZTF18aajpqbj','ZTF20aclhwqx','ZTF20abobsuw','ZTF20aazqifr',\n",
    "                      'ZTF18abciaaf','ZTF18aagrcbh','ZTF18abcyujq','ZTF19aalorrk'] + \\\n",
    "list(data_wanted[~data_wanted['hostless']]['objectID']) + list(pd.read_csv('../data/contaminants.dat'))\n",
    "\n",
    "should_not_survive = np.unique(np.array(should_not_survive))\n",
    "\n",
    "sso_names = ['ZTF22abbbydh','ZTF23aaoqpbu','ZTF22abdgjks','ZTF23aasnmmq','ZTF22abhfiew','ZTF22abisymj','ZTF22abfbxop',\n",
    "             'ZTF22abhhnzr','ZTF23aasnmru','ZTF22abqmkvz','ZTF23aasnmke','ZTF23aasnisu','ZTF22abmzlbw','ZTF22ablizvx',\n",
    "             'ZTF22abngynh','ZTF22abmgjsc','ZTF22aaodjcr','ZTF22abpugfh','ZTF22abjiryo','ZTF23aaoginy','ZTF22abhifxw',\n",
    "             'ZTF23aaogjqe','ZTF23aaogjku','ZTF23aaummdv','ZTF23aaogigp','ZTF23aaogiju','ZTF23aaogins','ZTF22aadtiqy',\n",
    "             'ZTF23aauyuxn','ZTF22aautkkx','ZTF23aaogiaf','ZTF22aaamcvt','ZTF23aaugvmy','ZTF23aaoghvk','ZTF22aavchkl',\n",
    "             'ZTF23aaofwyr','ZTF23aaogjzn','ZTF23aaoggla','ZTF22abbxmvp','ZTF22abjkduc','ZTF23aaogjoi','ZTF23aanbiwv',\n",
    "             'ZTF23aaotrxv','ZTF23aaofzxw','ZTF22abpuvwl','ZTF22aavchdb','ZTF23aasoswf','ZTF22aalbvkt','ZTF23aaogpip',\n",
    "             'ZTF22aaamctk','ZTF22aaemvon','ZTF23aalvzey','ZTF23aaogfwq','ZTF23aaogpix','ZTF22aarxhdg','ZTF22abkwgdf',\n",
    "             'ZTF23aaogfzp','ZTF23aakabyo','ZTF23aaogjqd','ZTF22aaerjna','ZTF23aaogjgw','ZTF22aacqokz','ZTF23aaognat',\n",
    "             'ZTF23aaogjor','ZTF22aadgikt','ZTF22abgcphv','ZTF23aaogihz','ZTF23aaogijv','ZTF22aamslae','ZTF23aaofzxv',\n",
    "             'ZTF22aahhaxl','ZTF23aaogfbe','ZTF23aaogiin','ZTF23aaoggtk','ZTF23aaogkze','ZTF23aaqzujy','ZTF22aachsxl',\n",
    "             'ZTF22abqmgeg','ZTF22aammugu','ZTF23aanxmyw','ZTF22aacbhed','ZTF23aakmhew','ZTF23aaogggc','ZTF23aasnoqs',\n",
    "             'ZTF22abdaraj','ZTF23aaogjts','ZTF23aaoggkr','ZTF22abdfcni','ZTF22abgdimv','ZTF23aaogijq','ZTF23aaouwwj',\n",
    "             'ZTF23aasnopz','ZTF23aaogfyw','ZTF22abqcija','ZTF23aarkjme','ZTF22aafrcia','ZTF23aaogfgz','ZTF23aaoggtx',\n",
    "             'ZTF22aapfnai']"
   ]
  },
  {
   "cell_type": "code",
   "execution_count": 3,
   "id": "2fc7d6a1-b428-4306-8dee-b62b0e33627a",
   "metadata": {},
   "outputs": [],
   "source": [
    "fname_use = '/media/emille/git/COIN/CRP7/hostless/code/power_spectrum_analysis_20240319.csv'\n",
    "\n",
    "op = open(fname_use, 'w')\n",
    "op.write('name,answer,ks_sci_stat_7,ks_sci_stat_15,ks_sci_stat_29,ks_temp_stat_7,ks_temp_stat_15,ks_temp_stat_29,' + \\\n",
    "             'ks_sci_pvalue_7,ks_sci_pvalue_15,ks_sci_pvalue_29,ks_temp_pvalue_7,ks_temp_pvalue_15,ks_temp_pvalue_29,'\n",
    "             'ad_sci_stat_7,ad_sci_stat_15,ad_sci_stat_29,ad_temp_stat_7,ad_temp_stat_15,ad_temp_stat_29,' + \\\n",
    "             'ad_sci_pvalue_7,ad_sci_pvalue_15,ad_sci_pvalue_29,ad_temp_pvalue_7,ad_temp_pvalue_15,ad_temp_pvalue_29\\n')\n",
    "op.close()"
   ]
  },
  {
   "cell_type": "code",
   "execution_count": 4,
   "id": "1800d20d-1990-485f-94d0-33a89316532e",
   "metadata": {},
   "outputs": [
    {
     "name": "stdout",
     "output_type": "stream",
     "text": [
      "Number SSO:  99    unique:  99\n",
      "Number should not survive:  76    unique:  76\n",
      "Number wanted:  130    unique:  130\n"
     ]
    }
   ],
   "source": [
    "# check if tables are consistent\n",
    "print('Number SSO: ', len(sso_names), '   unique: ', np.unique(np.array(sso_names)).shape[0])\n",
    "print('Number should not survive: ', len(should_not_survive), '   unique: ', np.unique(np.array(should_not_survive)).shape[0])\n",
    "print('Number wanted: ', len(wanted_names), '   unique: ', np.unique(np.array(wanted_names)).shape[0])"
   ]
  },
  {
   "cell_type": "code",
   "execution_count": 9,
   "id": "ea2b59f4-8952-4315-b320-45b351bd8303",
   "metadata": {},
   "outputs": [
    {
     "name": "stdout",
     "output_type": "stream",
     "text": [
      "Objects in sso also in wanted: 0\n",
      "Objects in wanted also in sso: 0\n",
      "Objects in should_not_survive also in wanted: 0\n",
      "Objects in wanted also in should_not_survive: 0\n"
     ]
    }
   ],
   "source": [
    "flag_sso_wanted = np.array([item in sso_names for item in wanted_names])\n",
    "print('Objects in sso also in wanted:', sum(flag_sso_wanted))\n",
    "\n",
    "flag_wanted_sso = np.array([item in wanted_names for item in sso_names])\n",
    "print('Objects in wanted also in sso:', sum(flag_wanted_sso))\n",
    "\n",
    "flag_sns_wanted = np.array([item in wanted_names for item in should_not_survive])\n",
    "print('Objects in should_not_survive also in wanted:', sum(flag_sns_wanted))\n",
    "\n",
    "flag_wanted_sns = np.array([item in should_not_survive for item in wanted_names])\n",
    "print('Objects in wanted also in should_not_survive:', sum(flag_wanted_sns))"
   ]
  },
  {
   "cell_type": "code",
   "execution_count": 10,
   "id": "e0f354a5-a765-4464-9120-5f7281c3db41",
   "metadata": {},
   "outputs": [],
   "source": [
    "wanted_names = wanted_names[~flag_wanted_sns]"
   ]
  },
  {
   "cell_type": "code",
   "execution_count": 11,
   "id": "ab2a2a3e-d47f-424d-8432-38e208f5e5aa",
   "metadata": {
    "tags": []
   },
   "outputs": [
    {
     "data": {
      "text/plain": [
       "(123,)"
      ]
     },
     "execution_count": 11,
     "metadata": {},
     "output_type": "execute_result"
    }
   ],
   "source": [
    "wanted_names.shape"
   ]
  },
  {
   "cell_type": "code",
   "execution_count": 12,
   "id": "26ff0a82-511d-485d-92d1-7622d45c204a",
   "metadata": {},
   "outputs": [],
   "source": [
    "res_directory = '/media3/CRP7/hosts/misc_results/power_spec_output/'"
   ]
  },
  {
   "cell_type": "code",
   "execution_count": 13,
   "id": "8123c923-dedc-4b7d-91c4-7444b5dc0b43",
   "metadata": {
    "tags": []
   },
   "outputs": [
    {
     "data": {
      "text/plain": [
       "1645"
      ]
     },
     "execution_count": 13,
     "metadata": {},
     "output_type": "execute_result"
    }
   ],
   "source": [
    "flist_ks = glob.glob(res_directory + '*_kstest.csv')\n",
    "len(flist_ks)"
   ]
  },
  {
   "cell_type": "code",
   "execution_count": 14,
   "id": "c85e6cdc-4681-41a6-ad9d-c300771338c9",
   "metadata": {
    "tags": []
   },
   "outputs": [
    {
     "data": {
      "text/plain": [
       "1645"
      ]
     },
     "execution_count": 14,
     "metadata": {},
     "output_type": "execute_result"
    }
   ],
   "source": [
    "flist_ad = glob.glob(res_directory + '*_anderson-darling.csv')\n",
    "len(flist_ad)"
   ]
  },
  {
   "cell_type": "code",
   "execution_count": 15,
   "id": "16d8601c-c1af-43ab-855d-a19c7925e3be",
   "metadata": {},
   "outputs": [],
   "source": [
    "done_ids = []\n",
    "fail = []\n",
    "\n",
    "for i in range(len(should_not_survive)):\n",
    "    \n",
    "    fname_ks = res_directory + should_not_survive[i] + '_kstest.csv'\n",
    "    objid = should_not_survive[i]\n",
    "    \n",
    "    if objid not in done_ids and os.path.isfile(fname_ks):        \n",
    "        \n",
    "        data_ks = pd.read_csv(fname_ks)\n",
    "\n",
    "        name_ad = res_directory + should_not_survive[i] + '_anderson-darling.csv'\n",
    "        if os.path.isfile(name_ad):\n",
    "            data_ad = pd.read_csv(name_ad)\n",
    "        else:\n",
    "            data_ad = pd.DataFrame(np.full(data_ks.shape, -99), columns=data_ks.keys())\n",
    "\n",
    "        op = open(fname_use, 'a')\n",
    "        ans = 'should_not_survive'\n",
    "        op.write(objid + ',' + ans + ',')\n",
    "        for i in range(data_ks.shape[0]):\n",
    "            op.write(str(data_ks.values[i][2]) + ',')\n",
    "        for i in range(data_ks.shape[0]):\n",
    "            op.write(str(data_ks.values[i][3]) + ',')\n",
    "        for i in range(data_ad.shape[0]):\n",
    "            op.write(str(data_ad.values[i][2]) + ',')\n",
    "        for i in range(data_ad.shape[0] - 1):\n",
    "            op.write(str(data_ad.values[i][3]) + ',')\n",
    "        op.write(str(data_ad.values[-1][3]) + '\\n')\n",
    "        op.close()\n",
    "\n",
    "        done_ids.append(objid)\n",
    "        \n",
    "    elif not os.path.isfile(fname_ks):\n",
    "        fail.append(fname_ks)"
   ]
  },
  {
   "cell_type": "code",
   "execution_count": 16,
   "id": "9ac0028a-d316-482a-aafe-781cb6cb9608",
   "metadata": {},
   "outputs": [
    {
     "data": {
      "text/plain": [
       "(55,)"
      ]
     },
     "execution_count": 16,
     "metadata": {},
     "output_type": "execute_result"
    }
   ],
   "source": [
    "np.unique(np.array(done_ids)).shape"
   ]
  },
  {
   "cell_type": "code",
   "execution_count": 17,
   "id": "f7f81067-480c-48ab-bc8b-c7cbeb2917ab",
   "metadata": {
    "tags": []
   },
   "outputs": [
    {
     "data": {
      "text/plain": [
       "21"
      ]
     },
     "execution_count": 17,
     "metadata": {},
     "output_type": "execute_result"
    }
   ],
   "source": [
    "len(fail)"
   ]
  },
  {
   "cell_type": "code",
   "execution_count": 25,
   "id": "a6f9039b-af82-4aea-bc10-82803f6b8239",
   "metadata": {},
   "outputs": [],
   "source": [
    "pos_bar = fail[1].rfind('/')\n",
    "pos_under = fail[1].rfind('_')\n",
    "fail_names = [item[pos_bar + 1:pos_under] for item in fail]"
   ]
  },
  {
   "cell_type": "raw",
   "id": "8796e8e1-8d15-433a-ac95-e82dd14938b9",
   "metadata": {},
   "source": [
    "op = open('../data/missing_power_spectrum.csv', 'w')\n",
    "op.write('objectId\\n')\n",
    "for i in range(len(fail_names)):\n",
    "    op.write(fail_names[i] + '\\n')\n",
    "op.close()"
   ]
  },
  {
   "cell_type": "code",
   "execution_count": 29,
   "id": "1f86c294-6bd4-44fb-8722-fce21cf5fffe",
   "metadata": {},
   "outputs": [
    {
     "data": {
      "text/plain": [
       "(151, 26)"
      ]
     },
     "execution_count": 29,
     "metadata": {},
     "output_type": "execute_result"
    }
   ],
   "source": [
    "data_done = pd.read_csv(fname_use)\n",
    "data_done.shape"
   ]
  },
  {
   "cell_type": "code",
   "execution_count": 13,
   "id": "9f282139-dfed-4de5-b9c5-47073fc88ea2",
   "metadata": {},
   "outputs": [
    {
     "data": {
      "text/plain": [
       "(55,)"
      ]
     },
     "execution_count": 13,
     "metadata": {},
     "output_type": "execute_result"
    }
   ],
   "source": [
    "np.unique(data_done['name']).shape"
   ]
  },
  {
   "cell_type": "code",
   "execution_count": 20,
   "id": "de3f2ac3-7f09-4061-9687-457d68b8ec62",
   "metadata": {},
   "outputs": [],
   "source": [
    "for i in range(len(wanted_names)):\n",
    "    \n",
    "    fname_ks = res_directory + wanted_names[i] + '_kstest.csv'\n",
    "    objid = wanted_names[i]\n",
    "    \n",
    "    if objid not in done_ids and os.path.isfile(fname_ks):\n",
    "        \n",
    "        data_ks = pd.read_csv(fname_ks)\n",
    "\n",
    "        name_ad = res_directory + wanted_names[i] + '_anderson-darling.csv'\n",
    "        if os.path.isfile(name_ad):\n",
    "            data_ad = pd.read_csv(name_ad)\n",
    "        else:\n",
    "            data_ad = pd.DataFrame(np.full(data_ks.shape, -99), columns=data_ks.keys())\n",
    "\n",
    "        op = open(fname_use, 'a')\n",
    "        ans = 'wanted'\n",
    "        op.write(objid + ',' + ans + ',')\n",
    "        for i in range(data_ks.shape[0]):\n",
    "            op.write(str(data_ks.values[i][2]) + ',')\n",
    "        for i in range(data_ks.shape[0]):\n",
    "            op.write(str(data_ks.values[i][3]) + ',')\n",
    "        for i in range(data_ad.shape[0]):\n",
    "            op.write(str(data_ad.values[i][2]) + ',')\n",
    "        for i in range(data_ad.shape[0] - 1):\n",
    "            op.write(str(data_ad.values[i][3]) + ',')\n",
    "        op.write(str(data_ad.values[-1][3]) + '\\n')\n",
    "        op.close()\n",
    "\n",
    "        done_ids.append(objid)\n",
    "        \n",
    "    elif not os.path.isfile(fname_ks):\n",
    "        fail.append(fname_ks)\n",
    "        "
   ]
  },
  {
   "cell_type": "code",
   "execution_count": 21,
   "id": "d94dd0e4-314d-48a9-a221-f8fc09dd8bad",
   "metadata": {},
   "outputs": [
    {
     "data": {
      "text/plain": [
       "(151, 26)"
      ]
     },
     "execution_count": 21,
     "metadata": {},
     "output_type": "execute_result"
    }
   ],
   "source": [
    "data_done = pd.read_csv(fname_use)\n",
    "data_done.shape"
   ]
  },
  {
   "cell_type": "code",
   "execution_count": 22,
   "id": "37baed08-0fd6-42ce-a198-c547ff24dd54",
   "metadata": {
    "tags": []
   },
   "outputs": [
    {
     "data": {
      "text/plain": [
       "48"
      ]
     },
     "execution_count": 22,
     "metadata": {},
     "output_type": "execute_result"
    }
   ],
   "source": [
    "len(fail)"
   ]
  },
  {
   "cell_type": "code",
   "execution_count": null,
   "id": "bf2534b8-9464-4e7e-af74-5a2338c553d4",
   "metadata": {},
   "outputs": [],
   "source": []
  },
  {
   "cell_type": "code",
   "execution_count": 30,
   "id": "afeb1e96-fd40-4575-bf4e-ed630bd6488f",
   "metadata": {},
   "outputs": [
    {
     "data": {
      "text/plain": [
       "(151,)"
      ]
     },
     "execution_count": 30,
     "metadata": {},
     "output_type": "execute_result"
    }
   ],
   "source": [
    "np.unique(data_done['name']).shape"
   ]
  },
  {
   "cell_type": "code",
   "execution_count": 31,
   "id": "be576c47-0f4a-4c57-96b3-3a5947a9bfb2",
   "metadata": {},
   "outputs": [],
   "source": [
    "data = data_done\n",
    "wanted = data[data['answer'] == 'wanted']\n",
    "out = data[data['answer'] == 'should_not_survive']"
   ]
  },
  {
   "cell_type": "code",
   "execution_count": 32,
   "id": "6dabbc27-8d51-4043-9ec1-8be5fede634e",
   "metadata": {},
   "outputs": [
    {
     "name": "stdout",
     "output_type": "stream",
     "text": [
      "should_not_survive :  55\n",
      "wanted :  96\n"
     ]
    }
   ],
   "source": [
    "name, pop = np.unique(data['answer'], return_counts=True)\n",
    "for i in range(len(name)):\n",
    "    print(name[i], ': ', pop[i])"
   ]
  },
  {
   "cell_type": "code",
   "execution_count": 48,
   "id": "b1960d53-48ce-4c31-af24-7128a8e7c015",
   "metadata": {},
   "outputs": [
    {
     "name": "stdout",
     "output_type": "stream",
     "text": [
      "ks_sci_stat_7\n",
      "ks_sci_stat_15\n",
      "ks_sci_stat_29\n",
      "ks_temp_stat_7\n",
      "ks_temp_stat_15\n",
      "ks_temp_stat_29\n"
     ]
    },
    {
     "data": {
      "image/png": "[encoded data removed]",
      "text/plain": [
       "<Figure size 2400x1000 with 6 Axes>"
      ]
     },
     "metadata": {},
     "output_type": "display_data"
    }
   ],
   "source": [
    "nbins = 20\n",
    "\n",
    "plt.figure(figsize=(24,10))\n",
    "\n",
    "for i in range(2, 8):\n",
    "    name = list(data.keys())[i]\n",
    "    print(name)\n",
    "    \n",
    "    plt.subplot(2,3,i-1)        \n",
    "    plt.hist(out[name], label='Should not survive', density=True, alpha=0.5, bins=nbins, color='green')\n",
    "    plt.hist(wanted[name], label='wanted', density=True, alpha=0.5, bins=nbins, color='red')\n",
    "    plt.xlabel(name)\n",
    "    plt.ylabel('PDF')\n",
    "    #plt.xscale('log')\n",
    "    plt.legend()\n",
    "\n",
    "#plt.show()\n",
    "plt.savefig('../plots/kstest_2classes.png')"
   ]
  },
  {
   "cell_type": "code",
   "execution_count": 25,
   "id": "2cd46aba-c21e-4d17-8f72-3c08dd665c91",
   "metadata": {},
   "outputs": [
    {
     "data": {
      "text/plain": [
       "count    55.000000\n",
       "mean      0.733056\n",
       "std       0.282589\n",
       "min       0.079397\n",
       "25%       0.534309\n",
       "50%       0.816206\n",
       "75%       0.997462\n",
       "max       1.000000\n",
       "Name: ks_temp_stat_15, dtype: float64"
      ]
     },
     "execution_count": 25,
     "metadata": {},
     "output_type": "execute_result"
    }
   ],
   "source": [
    "out['ks_temp_stat_15'].describe()"
   ]
  },
  {
   "cell_type": "code",
   "execution_count": 26,
   "id": "17ceb448-9e52-40f0-a655-3ea3634d92b5",
   "metadata": {},
   "outputs": [
    {
     "data": {
      "text/plain": [
       "count    96.000000\n",
       "mean      0.346632\n",
       "std       0.227185\n",
       "min       0.045352\n",
       "25%       0.164271\n",
       "50%       0.282374\n",
       "75%       0.497010\n",
       "max       0.925427\n",
       "Name: ks_temp_stat_15, dtype: float64"
      ]
     },
     "execution_count": 26,
     "metadata": {},
     "output_type": "execute_result"
    }
   ],
   "source": [
    "wanted['ks_temp_stat_15'].describe()"
   ]
  },
  {
   "cell_type": "code",
   "execution_count": 25,
   "id": "027e9ff2-6f69-448d-b965-4bc4252a799e",
   "metadata": {},
   "outputs": [
    {
     "name": "stdout",
     "output_type": "stream",
     "text": [
      "should_not_survive : 12\n",
      "wanted : 72\n"
     ]
    }
   ],
   "source": [
    "classname, pop = np.unique(data[data['ks_temp_stat_15'] <= 0.5]['answer'].values, return_counts=True)\n",
    "\n",
    "for i in range(len(classname)):\n",
    "    print(classname[i], ':', pop[i])"
   ]
  },
  {
   "cell_type": "code",
   "execution_count": 27,
   "id": "23ea1ca9-734e-41c9-b001-98efe2004296",
   "metadata": {},
   "outputs": [
    {
     "data": {
      "text/plain": [
       "0.14285714285714285"
      ]
     },
     "execution_count": 27,
     "metadata": {},
     "output_type": "execute_result"
    }
   ],
   "source": [
    "pop[0]/sum(pop)"
   ]
  },
  {
   "cell_type": "code",
   "execution_count": 29,
   "id": "d768fcbb-660f-4acb-bb56-459c97761d1e",
   "metadata": {},
   "outputs": [
    {
     "data": {
      "text/plain": [
       "0.5033814088835686"
      ]
     },
     "execution_count": 29,
     "metadata": {},
     "output_type": "execute_result"
    }
   ],
   "source": [
    "max(out['ks_sci_pvalue_7'])"
   ]
  },
  {
   "cell_type": "code",
   "execution_count": 30,
   "id": "696048dc-9bba-432a-acca-167c5614b19e",
   "metadata": {},
   "outputs": [
    {
     "data": {
      "text/plain": [
       "2.9760543274374823e-176"
      ]
     },
     "execution_count": 30,
     "metadata": {},
     "output_type": "execute_result"
    }
   ],
   "source": [
    "min(out['ks_sci_pvalue_7'])"
   ]
  },
  {
   "cell_type": "code",
   "execution_count": 51,
   "id": "49a4e3ca-c650-4a1d-94a0-7c1a1e0e0ec3",
   "metadata": {},
   "outputs": [
    {
     "name": "stdout",
     "output_type": "stream",
     "text": [
      "ad_sci_stat_7\n",
      "ad_sci_stat_15\n",
      "ad_sci_stat_29\n",
      "ad_temp_stat_7\n",
      "ad_temp_stat_15\n",
      "ad_temp_stat_29\n"
     ]
    },
    {
     "data": {
      "image/png": "[encoded data removed]",
      "text/plain": [
       "<Figure size 2400x1000 with 6 Axes>"
      ]
     },
     "metadata": {},
     "output_type": "display_data"
    }
   ],
   "source": [
    "nbins = 30\n",
    "\n",
    "plt.figure(figsize=(24,10))\n",
    "\n",
    "for i in range(14, 20):\n",
    "    name = list(data.keys())[i]\n",
    "    \n",
    "    plt.subplot(2,3,i-13)        \n",
    "    plt.hist(out[name], label='Should not survive', density=True, alpha=0.5, color='green')\n",
    "    plt.hist(wanted[name], label='wanted', density=True, alpha=0.5, color='red')\n",
    "    plt.xlabel(name)\n",
    "    plt.ylabel('PDF')\n",
    "    #plt.xscale('log')\n",
    "    plt.legend()\n",
    "\n",
    "#plt.show()\n",
    "plt.savefig('../plots/ad_2classes.png')"
   ]
  },
  {
   "cell_type": "code",
   "execution_count": 56,
   "id": "3dfa51a4-e5ef-466a-b0f1-e9e7d549c6cf",
   "metadata": {
    "tags": []
   },
   "outputs": [
    {
     "data": {
      "text/plain": [
       "count      55.000000\n",
       "mean      320.178113\n",
       "std       396.704152\n",
       "min        -0.515419\n",
       "25%        12.596263\n",
       "50%       110.679618\n",
       "75%       502.078531\n",
       "max      1090.165670\n",
       "Name: ad_sci_stat_15, dtype: float64"
      ]
     },
     "execution_count": 56,
     "metadata": {},
     "output_type": "execute_result"
    }
   ],
   "source": [
    "out['ad_sci_stat_15'].describe()"
   ]
  },
  {
   "cell_type": "code",
   "execution_count": 57,
   "id": "f3e1e994-31ef-418a-826d-9487c4b9fced",
   "metadata": {},
   "outputs": [
    {
     "data": {
      "text/plain": [
       "count      96.000000\n",
       "mean       71.041172\n",
       "std       162.532307\n",
       "min        -0.360666\n",
       "25%         5.633183\n",
       "50%        18.356688\n",
       "75%        47.987582\n",
       "max      1041.608228\n",
       "Name: ad_sci_stat_15, dtype: float64"
      ]
     },
     "execution_count": 57,
     "metadata": {},
     "output_type": "execute_result"
    }
   ],
   "source": [
    "wanted['ad_sci_stat_15'].describe()"
   ]
  },
  {
   "cell_type": "code",
   "execution_count": 58,
   "id": "1959e321-8a46-4447-9e9e-431e58616c32",
   "metadata": {},
   "outputs": [
    {
     "name": "stdout",
     "output_type": "stream",
     "text": [
      "should_not_survive : 23\n",
      "wanted : 72\n"
     ]
    }
   ],
   "source": [
    "classname, pop = np.unique(data[data['ad_sci_stat_15'] <=48]['answer'].values, \n",
    "                           return_counts=True)\n",
    "\n",
    "for i in range(len(classname)):\n",
    "    print(classname[i], ':', pop[i])"
   ]
  },
  {
   "cell_type": "code",
   "execution_count": 59,
   "id": "63525816-1bc5-47c4-a964-8e91688e3fd0",
   "metadata": {},
   "outputs": [
    {
     "data": {
      "text/plain": [
       "0.24210526315789474"
      ]
     },
     "execution_count": 59,
     "metadata": {},
     "output_type": "execute_result"
    }
   ],
   "source": [
    "pop[0]/sum(pop)"
   ]
  },
  {
   "cell_type": "code",
   "execution_count": null,
   "id": "60dfc24a-2ffa-4c88-8cf9-96dbe73bfff0",
   "metadata": {},
   "outputs": [],
   "source": []
  }
 ],
 "metadata": {
  "kernelspec": {
   "display_name": "Python 3 (ipykernel)",
   "language": "python",
   "name": "python3"
  },
  "language_info": {
   "codemirror_mode": {
    "name": "ipython",
    "version": 3
   },
   "file_extension": ".py",
   "mimetype": "text/x-python",
   "name": "python",
   "nbconvert_exporter": "python",
   "pygments_lexer": "ipython3",
   "version": "3.8.14"
  }
 },
 "nbformat": 4,
 "nbformat_minor": 5
}
