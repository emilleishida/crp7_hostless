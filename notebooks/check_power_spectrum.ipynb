{
 "cells": [
  {
   "cell_type": "code",
   "execution_count": 1,
   "id": "f08000da-9787-444c-b79d-b670eb4ddcde",
   "metadata": {},
   "outputs": [],
   "source": [
    "import pandas as pd\n",
    "import matplotlib.pylab as plt\n",
    "import numpy as np\n",
    "import os"
   ]
  },
  {
   "cell_type": "code",
   "execution_count": 2,
   "id": "8405dce6-ea7c-4e8f-a468-a0ac9efdfeb2",
   "metadata": {},
   "outputs": [],
   "source": [
    "data_wanted = pd.read_csv('from_lilianne.dat', delim_whitespace=True, usecols=['idx','objectID','hostless'])\n",
    "\n",
    "wanted_names = list(data_wanted[data_wanted['hostless']]['objectID']) + ['ZTF23abdynfn','ZTF22aaaihet','ZTF23absflyh',\n",
    "                                                                         'ZTF23aarlxdf','ZTF23aawhcjb','ZTF23aajenxf',\n",
    "                'ZTF22aaljlzq','ZTF22abnwvyc','ZTF23aabtgej','ZTF22aadeuwu','ZTF23aafmjbx','ZTF23aagaiju',\n",
    "                'ZTF22aaahull','ZTF22aaszlph','ZTF23aaqfdby','ZTF22abzvyku','ZTF22aahhubz','ZTF23aaelzdb',\n",
    "                'ZTF23aboebgh','ZTF23aamxeoe','ZTF23aamqonh','ZTF22abtltcw','ZTF22aaausrb','ZTF21abiwpjm',\n",
    "                'ZTF22abvaggn','ZTF22abyuoan','ZTF20aayvmyh','ZTF22aaaeohg','ZTF22aasaapb','ZTF22aalmrqp',\n",
    "                'ZTF23aanukvi','ZTF22abmpqbq','ZTF23abbsfxp','ZTF22aaombjf','ZTF22abzbyyw','ZTF22abfxmvf',\n",
    "                'ZTF22aaafohf','ZTF22abfyvhf','ZTF22aafumyr','ZTF23aakmewi','ZTF23ablspnz','ZTF23aanuvih',\n",
    "                'ZTF22aahecwj','ZTF22abnqzle','ZTF23aafggjj','ZTF22aaogwbd','ZTF22aadetzs','ZTF23aapvrkk',\n",
    "                'ZTF23abgsmsg','ZTF22abjafpr','ZTF23aamsekn','ZTF23abcqzvm','ZTF23abgvtxr','ZTF22aajhtpy',\n",
    "                'ZTF22abvngdr','ZTF23aaazegi','ZTF22aaagvyp','ZTF23aaejvzv','ZTF23abgzmfs','ZTF23abcufxh',\n",
    "                'ZTF22aapuake','ZTF22aadlmgg','ZTF22aasoali','ZTF23abaslfm','ZTF22ablhldn','ZTF22abtotgu',\n",
    "                'ZTF23aagdbbv','ZTF23aaxyawz','ZTF22aaftcmp','ZTF23abqygjv','ZTF18aaapivw']\n",
    "\n",
    "wanted_names = np.unique(np.array(wanted_names))\n",
    "\n",
    "should_not_survive = ['ZTF22aauiabm',\n",
    "'ZTF23abmoxlu',\n",
    "'ZTF23aaiyexs',\n",
    "'ZTF22aakdbia',\n",
    "'ZTF22abbausm',\n",
    "'ZTF22aaajjcq',\n",
    "'ZTF22aazmooy',\n",
    "'ZTF23aaaairl',\n",
    "'ZTF22aafoqrd',\n",
    "'ZTF23absbyol',\n",
    "'ZTF22aanrqje',\n",
    "'ZTF23aadvjqb',\n",
    "'ZTF22abzakdd',\n",
    "'ZTF22aagzbux',\n",
    "'ZTF22absxatm',\n",
    "'ZTF22aapubuy',\n",
    "'ZTF23aajlkxc',\n",
    "'ZTF22aboixdd',\n",
    "'ZTF23aaawcvx',\n",
    "'ZTF22aabtyli',\n",
    "'ZTF22abahblc',\n",
    "'ZTF19abszdld',\n",
    "'ZTF22aahebcu','ZTF18aajpqbj','ZTF20aclhwqx','ZTF20abobsuw','ZTF20aazqifr','ZTF18abciaaf','ZTF18aagrcbh','ZTF18abcyujq','ZTF19aalorrk'] + \\\n",
    "list(data_wanted[~data_wanted['hostless']]['objectID'])\n",
    "should_not_survive = np.unique(np.array(should_not_survive))\n",
    "\n",
    "sso_names = ['ZTF22abbbydh','ZTF23aaoqpbu','ZTF22abdgjks','ZTF23aasnmmq','ZTF22abhfiew','ZTF22abisymj','ZTF22abfbxop',\n",
    "             'ZTF22abhhnzr','ZTF23aasnmru','ZTF22abqmkvz','ZTF23aasnmke','ZTF23aasnisu','ZTF22abmzlbw','ZTF22ablizvx',\n",
    "             'ZTF22abngynh','ZTF22abmgjsc','ZTF22aaodjcr','ZTF22abpugfh','ZTF22abjiryo','ZTF23aaoginy','ZTF22abhifxw',\n",
    "             'ZTF23aaogjqe','ZTF23aaogjku','ZTF23aaummdv','ZTF23aaogigp','ZTF23aaogiju','ZTF23aaogins','ZTF22aadtiqy',\n",
    "             'ZTF23aauyuxn','ZTF22aautkkx','ZTF23aaogiaf','ZTF22aaamcvt','ZTF23aaugvmy','ZTF23aaoghvk','ZTF22aavchkl',\n",
    "             'ZTF23aaofwyr','ZTF23aaogjzn','ZTF23aaoggla','ZTF22abbxmvp','ZTF22abjkduc','ZTF23aaogjoi','ZTF23aanbiwv',\n",
    "             'ZTF23aaotrxv','ZTF23aaofzxw','ZTF22abpuvwl','ZTF22aavchdb','ZTF23aasoswf','ZTF22aalbvkt','ZTF23aaogpip',\n",
    "             'ZTF22aaamctk','ZTF22aaemvon','ZTF23aalvzey','ZTF23aaogfwq','ZTF23aaogpix','ZTF22aarxhdg','ZTF22abkwgdf',\n",
    "             'ZTF23aaogfzp','ZTF23aakabyo','ZTF23aaogjqd','ZTF22aaerjna','ZTF23aaogjgw','ZTF22aacqokz','ZTF23aaognat',\n",
    "             'ZTF23aaogjor','ZTF22aadgikt','ZTF22abgcphv','ZTF23aaogihz','ZTF23aaogijv','ZTF22aamslae','ZTF23aaofzxv',\n",
    "             'ZTF22aahhaxl','ZTF23aaogfbe','ZTF23aaogiin','ZTF23aaoggtk','ZTF23aaogkze','ZTF23aaqzujy','ZTF22aachsxl',\n",
    "             'ZTF22abqmgeg','ZTF22aammugu','ZTF23aanxmyw','ZTF22aacbhed','ZTF23aakmhew','ZTF23aaogggc','ZTF23aasnoqs',\n",
    "             'ZTF22abdaraj','ZTF23aaogjts','ZTF23aaoggkr','ZTF22abdfcni','ZTF22abgdimv','ZTF23aaogijq','ZTF23aaouwwj',\n",
    "             'ZTF23aasnopz','ZTF23aaogfyw','ZTF22abqcija','ZTF23aarkjme','ZTF22aafrcia','ZTF23aaogfgz','ZTF23aaoggtx',\n",
    "             'ZTF22aapfnai']"
   ]
  },
  {
   "cell_type": "code",
   "execution_count": 3,
   "id": "2fc7d6a1-b428-4306-8dee-b62b0e33627a",
   "metadata": {},
   "outputs": [],
   "source": [
    "fname_use = '/media/emille/git/COIN/CRP7/hostless/code/power_spectrum_analysis_20240314.csv'\n",
    "\n",
    "op = open(fname_use, 'w')\n",
    "op.write('name,answer,ks_sci_stat_7,ks_sci_stat_15,ks_sci_stat_29,ks_temp_stat_7,ks_temp_stat_15,ks_temp_stat_29,' + \\\n",
    "             'ks_sci_pvalue_7,ks_sci_pvalue_15,ks_sci_pvalue_29,ks_temp_pvalue_7,ks_temp_pvalue_15,ks_temp_pvalue_29,'\n",
    "             'ad_sci_stat_7,ad_sci_stat_15,ad_sci_stat_29,ad_temp_stat_7,ad_temp_stat_15,ad_temp_stat_29,' + \\\n",
    "             'ad_sci_pvalue_7,ad_sci_pvalue_15,ad_sci_pvalue_29,ad_temp_pvalue_7,ad_temp_pvalue_15,ad_temp_pvalue_29\\n')\n",
    "op.close()"
   ]
  },
  {
   "cell_type": "code",
   "execution_count": 4,
   "id": "1800d20d-1990-485f-94d0-33a89316532e",
   "metadata": {},
   "outputs": [
    {
     "name": "stdout",
     "output_type": "stream",
     "text": [
      "Number SSO:  99    unique:  99\n",
      "Number should not survive:  75    unique:  75\n",
      "Number wanted:  130    unique:  130\n"
     ]
    }
   ],
   "source": [
    "# check if tables are consistent\n",
    "print('Number SSO: ', len(sso_names), '   unique: ', np.unique(np.array(sso_names)).shape[0])\n",
    "print('Number should not survive: ', len(should_not_survive), '   unique: ', np.unique(np.array(should_not_survive)).shape[0])\n",
    "print('Number wanted: ', len(wanted_names), '   unique: ', np.unique(np.array(wanted_names)).shape[0])"
   ]
  },
  {
   "cell_type": "code",
   "execution_count": 5,
   "id": "ea2b59f4-8952-4315-b320-45b351bd8303",
   "metadata": {},
   "outputs": [
    {
     "name": "stdout",
     "output_type": "stream",
     "text": [
      "Objects in sso also in wanted: 0\n",
      "Objects in wanted also in sso: 0\n",
      "Objects in should_not_survive also in wanted: 7\n",
      "Objects in wanted also in should_not_survive: 7\n"
     ]
    }
   ],
   "source": [
    "flag_sso_wanted = np.array([item in sso_names for item in wanted_names])\n",
    "print('Objects in sso also in wanted:', sum(flag_sso_wanted))\n",
    "\n",
    "flag_wanted_sso = np.array([item in wanted_names for item in sso_names])\n",
    "print('Objects in wanted also in sso:', sum(flag_wanted_sso))\n",
    "\n",
    "flag_sns_wanted = np.array([item in wanted_names for item in should_not_survive])\n",
    "print('Objects in should_not_survive also in wanted:', sum(flag_sns_wanted))\n",
    "\n",
    "flag_wanted_sns = np.array([item in should_not_survive for item in wanted_names])\n",
    "print('Objects in wanted also in should_not_survive:', sum(flag_wanted_sns))"
   ]
  },
  {
   "cell_type": "code",
   "execution_count": 6,
   "id": "e0f354a5-a765-4464-9120-5f7281c3db41",
   "metadata": {},
   "outputs": [],
   "source": [
    "wanted_names = wanted_names[~flag_wanted_sns]"
   ]
  },
  {
   "cell_type": "code",
   "execution_count": 7,
   "id": "26ff0a82-511d-485d-92d1-7622d45c204a",
   "metadata": {},
   "outputs": [],
   "source": [
    "res_directory = '/media3/CRP7/hosts/misc_results/power_spec_output/old_results/'"
   ]
  },
  {
   "cell_type": "code",
   "execution_count": 8,
   "id": "16d8601c-c1af-43ab-855d-a19c7925e3be",
   "metadata": {},
   "outputs": [],
   "source": [
    "done_ids = []\n",
    "\n",
    "for i in range(len(should_not_survive)):\n",
    "    \n",
    "    fname_ks = res_directory + should_not_survive[i] + '_kstest.csv'\n",
    "    objid = should_not_survive[i]\n",
    "    \n",
    "    if objid not in done_ids and os.path.isfile(fname_ks):        \n",
    "        \n",
    "        data_ks = pd.read_csv(fname_ks)\n",
    "\n",
    "        name_ad = res_directory + should_not_survive[i] + '_anderson-darling.csv'\n",
    "        if os.path.isfile(name_ad):\n",
    "            data_ad = pd.read_csv(name_ad)\n",
    "        else:\n",
    "            data_ad = pd.DataFrame(np.full(data_ks.shape, -99), columns=data_ks.keys())\n",
    "\n",
    "        op = open(fname_use, 'a')\n",
    "        ans = 'should_not_survive'\n",
    "        op.write(objid + ',' + ans + ',')\n",
    "        for i in range(data_ks.shape[0]):\n",
    "            op.write(str(data_ks.values[i][2]) + ',')\n",
    "        for i in range(data_ks.shape[0]):\n",
    "            op.write(str(data_ks.values[i][3]) + ',')\n",
    "        for i in range(data_ad.shape[0]):\n",
    "            op.write(str(data_ad.values[i][2]) + ',')\n",
    "        for i in range(data_ad.shape[0] - 1):\n",
    "            op.write(str(data_ad.values[i][3]) + ',')\n",
    "        op.write(str(data_ad.values[-1][3]) + '\\n')\n",
    "        op.close()\n",
    "\n",
    "        done_ids.append(objid)\n",
    "        "
   ]
  },
  {
   "cell_type": "code",
   "execution_count": 9,
   "id": "9ac0028a-d316-482a-aafe-781cb6cb9608",
   "metadata": {},
   "outputs": [
    {
     "data": {
      "text/plain": [
       "(34,)"
      ]
     },
     "execution_count": 9,
     "metadata": {},
     "output_type": "execute_result"
    }
   ],
   "source": [
    "np.unique(np.array(done_ids)).shape"
   ]
  },
  {
   "cell_type": "code",
   "execution_count": 10,
   "id": "1f86c294-6bd4-44fb-8722-fce21cf5fffe",
   "metadata": {},
   "outputs": [
    {
     "data": {
      "text/plain": [
       "(34, 26)"
      ]
     },
     "execution_count": 10,
     "metadata": {},
     "output_type": "execute_result"
    }
   ],
   "source": [
    "data_done = pd.read_csv(fname_use)\n",
    "data_done.shape"
   ]
  },
  {
   "cell_type": "code",
   "execution_count": 11,
   "id": "9f282139-dfed-4de5-b9c5-47073fc88ea2",
   "metadata": {},
   "outputs": [
    {
     "data": {
      "text/plain": [
       "(34,)"
      ]
     },
     "execution_count": 11,
     "metadata": {},
     "output_type": "execute_result"
    }
   ],
   "source": [
    "np.unique(data_done['name']).shape"
   ]
  },
  {
   "cell_type": "code",
   "execution_count": 12,
   "id": "2d58b6e1-3953-4e7f-869d-2dfefc2a9e4d",
   "metadata": {},
   "outputs": [],
   "source": [
    "for i in range(len(sso_names)):\n",
    "    \n",
    "    fname_ks = res_directory + sso_names[i] + '_kstest.csv'\n",
    "    objid = sso_names[i]\n",
    "    \n",
    "    if objid not in done_ids and os.path.isfile(fname_ks):\n",
    "        \n",
    "        data_ks = pd.read_csv(fname_ks)\n",
    "\n",
    "        name_ad = res_directory + sso_names[i] + '_anderson-darling.csv'\n",
    "        if os.path.isfile(name_ad):\n",
    "            data_ad = pd.read_csv(name_ad)\n",
    "        else:\n",
    "            data_ad = pd.DataFrame(np.full(data_ks.shape, -99), columns=data_ks.keys())\n",
    "\n",
    "        op = open(fname_use, 'a')\n",
    "        ans = 'SSO'\n",
    "        op.write(objid + ',' + ans + ',')\n",
    "        for i in range(data_ks.shape[0]):\n",
    "            op.write(str(data_ks.values[i][2]) + ',')\n",
    "        for i in range(data_ks.shape[0]):\n",
    "            op.write(str(data_ks.values[i][3]) + ',')\n",
    "        for i in range(data_ad.shape[0]):\n",
    "            op.write(str(data_ad.values[i][2]) + ',')\n",
    "        for i in range(data_ad.shape[0] - 1):\n",
    "            op.write(str(data_ad.values[i][3]) + ',')\n",
    "        op.write(str(data_ad.values[-1][3]) + '\\n')\n",
    "        op.close()\n",
    "\n",
    "        done_ids.append(objid)\n",
    "        "
   ]
  },
  {
   "cell_type": "code",
   "execution_count": 13,
   "id": "d3531edd-b46a-4cac-bbab-a38f96c1518e",
   "metadata": {},
   "outputs": [
    {
     "data": {
      "text/plain": [
       "(100, 26)"
      ]
     },
     "execution_count": 13,
     "metadata": {},
     "output_type": "execute_result"
    }
   ],
   "source": [
    "data_done = pd.read_csv(fname_use)\n",
    "data_done.shape"
   ]
  },
  {
   "cell_type": "code",
   "execution_count": 14,
   "id": "9fd67e75-73d9-4cc2-bc61-935a2c8bd209",
   "metadata": {},
   "outputs": [
    {
     "data": {
      "text/plain": [
       "(100,)"
      ]
     },
     "execution_count": 14,
     "metadata": {},
     "output_type": "execute_result"
    }
   ],
   "source": [
    "np.unique(data_done['name']).shape"
   ]
  },
  {
   "cell_type": "code",
   "execution_count": 15,
   "id": "de3f2ac3-7f09-4061-9687-457d68b8ec62",
   "metadata": {},
   "outputs": [],
   "source": [
    "for i in range(len(wanted_names)):\n",
    "    \n",
    "    fname_ks = res_directory + wanted_names[i] + '_kstest.csv'\n",
    "    objid = wanted_names[i]\n",
    "    \n",
    "    if objid not in done_ids and os.path.isfile(fname_ks):\n",
    "        \n",
    "        data_ks = pd.read_csv(fname_ks)\n",
    "\n",
    "        name_ad = res_directory + wanted_names[i] + '_anderson-darling.csv'\n",
    "        if os.path.isfile(name_ad):\n",
    "            data_ad = pd.read_csv(name_ad)\n",
    "        else:\n",
    "            data_ad = pd.DataFrame(np.full(data_ks.shape, -99), columns=data_ks.keys())\n",
    "\n",
    "        op = open(fname_use, 'a')\n",
    "        ans = 'wanted'\n",
    "        op.write(objid + ',' + ans + ',')\n",
    "        for i in range(data_ks.shape[0]):\n",
    "            op.write(str(data_ks.values[i][2]) + ',')\n",
    "        for i in range(data_ks.shape[0]):\n",
    "            op.write(str(data_ks.values[i][3]) + ',')\n",
    "        for i in range(data_ad.shape[0]):\n",
    "            op.write(str(data_ad.values[i][2]) + ',')\n",
    "        for i in range(data_ad.shape[0] - 1):\n",
    "            op.write(str(data_ad.values[i][3]) + ',')\n",
    "        op.write(str(data_ad.values[-1][3]) + '\\n')\n",
    "        op.close()\n",
    "\n",
    "        done_ids.append(objid)\n",
    "        "
   ]
  },
  {
   "cell_type": "code",
   "execution_count": 16,
   "id": "d94dd0e4-314d-48a9-a221-f8fc09dd8bad",
   "metadata": {},
   "outputs": [
    {
     "data": {
      "text/plain": [
       "(163, 26)"
      ]
     },
     "execution_count": 16,
     "metadata": {},
     "output_type": "execute_result"
    }
   ],
   "source": [
    "data_done = pd.read_csv(fname_use)\n",
    "data_done.shape"
   ]
  },
  {
   "cell_type": "code",
   "execution_count": 17,
   "id": "afeb1e96-fd40-4575-bf4e-ed630bd6488f",
   "metadata": {},
   "outputs": [
    {
     "data": {
      "text/plain": [
       "(163,)"
      ]
     },
     "execution_count": 17,
     "metadata": {},
     "output_type": "execute_result"
    }
   ],
   "source": [
    "np.unique(data_done['name']).shape"
   ]
  },
  {
   "cell_type": "code",
   "execution_count": 19,
   "id": "be576c47-0f4a-4c57-96b3-3a5947a9bfb2",
   "metadata": {},
   "outputs": [],
   "source": [
    "data = data_done\n",
    "sso = data[data['answer'] == 'SSO']\n",
    "wanted = data[data['answer'] == 'wanted']\n",
    "out = data[data['answer'] == 'should_not_survive']"
   ]
  },
  {
   "cell_type": "code",
   "execution_count": 21,
   "id": "6dabbc27-8d51-4043-9ec1-8be5fede634e",
   "metadata": {},
   "outputs": [
    {
     "name": "stdout",
     "output_type": "stream",
     "text": [
      "SSO :  66\n",
      "should_not_survive :  34\n",
      "wanted :  63\n"
     ]
    }
   ],
   "source": [
    "name, pop = np.unique(data['answer'], return_counts=True)\n",
    "for i in range(len(name)):\n",
    "    print(name[i], ': ', pop[i])"
   ]
  },
  {
   "cell_type": "code",
   "execution_count": 22,
   "id": "b1960d53-48ce-4c31-af24-7128a8e7c015",
   "metadata": {},
   "outputs": [
    {
     "data": {
      "image/png": "[encoded data removed]",
      "text/plain": [
       "<Figure size 2400x1000 with 6 Axes>"
      ]
     },
     "metadata": {},
     "output_type": "display_data"
    }
   ],
   "source": [
    "nbins = 20\n",
    "\n",
    "plt.figure(figsize=(24,10))\n",
    "\n",
    "for i in range(2, 8):\n",
    "    name = list(data.keys())[i]\n",
    "    \n",
    "    plt.subplot(2,3,i-1)        \n",
    "    plt.hist(sso[name], label='SSO', density=True, alpha=0.5, bins=nbins, color='blue')\n",
    "    plt.hist(out[name], label='Should not survive', density=True, alpha=0.5, bins=nbins, color='green')\n",
    "    plt.hist(wanted[name], label='wanted', density=True, alpha=0.5, bins=nbins, color='red')\n",
    "    plt.xlabel(name)\n",
    "    plt.ylabel('PDF')\n",
    "    #plt.xscale('log')\n",
    "    plt.legend()\n",
    "\n",
    "plt.show()\n",
    "#plt.savefig('kstest_2classesb_log.png')"
   ]
  },
  {
   "cell_type": "code",
   "execution_count": 23,
   "id": "2cd46aba-c21e-4d17-8f72-3c08dd665c91",
   "metadata": {},
   "outputs": [
    {
     "data": {
      "text/plain": [
       "count    34.000000\n",
       "mean      0.760703\n",
       "std       0.294396\n",
       "min       0.130452\n",
       "25%       0.586520\n",
       "50%       0.903518\n",
       "75%       0.999121\n",
       "max       1.000000\n",
       "Name: ks_temp_stat_15, dtype: float64"
      ]
     },
     "execution_count": 23,
     "metadata": {},
     "output_type": "execute_result"
    }
   ],
   "source": [
    "out['ks_temp_stat_15'].describe()"
   ]
  },
  {
   "cell_type": "code",
   "execution_count": 25,
   "id": "17ceb448-9e52-40f0-a655-3ea3634d92b5",
   "metadata": {},
   "outputs": [
    {
     "data": {
      "text/plain": [
       "count    63.000000\n",
       "mean      0.288191\n",
       "std       0.235662\n",
       "min       0.047538\n",
       "25%       0.102475\n",
       "50%       0.209296\n",
       "75%       0.357827\n",
       "max       0.999849\n",
       "Name: ks_temp_stat_15, dtype: float64"
      ]
     },
     "execution_count": 25,
     "metadata": {},
     "output_type": "execute_result"
    }
   ],
   "source": [
    "wanted['ks_temp_stat_15'].describe()"
   ]
  },
  {
   "cell_type": "code",
   "execution_count": 24,
   "id": "027e9ff2-6f69-448d-b965-4bc4252a799e",
   "metadata": {},
   "outputs": [
    {
     "name": "stdout",
     "output_type": "stream",
     "text": [
      "SSO : 51\n",
      "should_not_survive : 6\n",
      "wanted : 50\n"
     ]
    }
   ],
   "source": [
    "classname, pop = np.unique(data[data['ks_temp_stat_15'] <= 0.4]['answer'].values, return_counts=True)\n",
    "\n",
    "for i in range(len(classname)):\n",
    "    print(classname[i], ':', pop[i])"
   ]
  },
  {
   "cell_type": "code",
   "execution_count": 35,
   "id": "23ea1ca9-734e-41c9-b001-98efe2004296",
   "metadata": {},
   "outputs": [
    {
     "data": {
      "text/plain": [
       "0.4672897196261682"
      ]
     },
     "execution_count": 35,
     "metadata": {},
     "output_type": "execute_result"
    }
   ],
   "source": [
    "pop[2]/sum(pop)"
   ]
  },
  {
   "cell_type": "code",
   "execution_count": 59,
   "id": "c2252e6f-42fe-48fe-9f1b-85bddf56db3e",
   "metadata": {},
   "outputs": [
    {
     "data": {
      "text/plain": [
       "0.3886871169211692"
      ]
     },
     "execution_count": 59,
     "metadata": {},
     "output_type": "execute_result"
    }
   ],
   "source": [
    "max(sso['ks_sci_pvalue_7'])"
   ]
  },
  {
   "cell_type": "code",
   "execution_count": 60,
   "id": "d768fcbb-660f-4acb-bb56-459c97761d1e",
   "metadata": {},
   "outputs": [
    {
     "data": {
      "text/plain": [
       "0.3287728349733759"
      ]
     },
     "execution_count": 60,
     "metadata": {},
     "output_type": "execute_result"
    }
   ],
   "source": [
    "max(out['ks_sci_pvalue_7'])"
   ]
  },
  {
   "cell_type": "code",
   "execution_count": 61,
   "id": "696048dc-9bba-432a-acca-167c5614b19e",
   "metadata": {},
   "outputs": [
    {
     "data": {
      "text/plain": [
       "1.0459243911689498e-30"
      ]
     },
     "execution_count": 61,
     "metadata": {},
     "output_type": "execute_result"
    }
   ],
   "source": [
    "min(out['ks_sci_pvalue_7'])"
   ]
  },
  {
   "cell_type": "code",
   "execution_count": null,
   "id": "49a4e3ca-c650-4a1d-94a0-7c1a1e0e0ec3",
   "metadata": {},
   "outputs": [],
   "source": []
  }
 ],
 "metadata": {
  "kernelspec": {
   "display_name": "Python 3 (ipykernel)",
   "language": "python",
   "name": "python3"
  },
  "language_info": {
   "codemirror_mode": {
    "name": "ipython",
    "version": 3
   },
   "file_extension": ".py",
   "mimetype": "text/x-python",
   "name": "python",
   "nbconvert_exporter": "python",
   "pygments_lexer": "ipython3",
   "version": "3.8.14"
  }
 },
 "nbformat": 4,
 "nbformat_minor": 5
}
