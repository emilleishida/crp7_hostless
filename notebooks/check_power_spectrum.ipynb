{
 "cells": [
  {
   "cell_type": "code",
   "execution_count": 1,
   "id": "f08000da-9787-444c-b79d-b670eb4ddcde",
   "metadata": {},
   "outputs": [],
   "source": [
    "import pandas as pd\n",
    "import matplotlib.pylab as plt\n",
    "import numpy as np\n",
    "import os"
   ]
  },
  {
   "cell_type": "code",
   "execution_count": 5,
   "id": "9a6a4666-2766-4205-8ac9-38d9148f4978",
   "metadata": {},
   "outputs": [],
   "source": [
    "data_wanted = pd.read_csv('../data/from_lilianne.dat', delim_whitespace=True, \n",
    "                          usecols=['idx','objectID','hostless'])\n"
   ]
  },
  {
   "cell_type": "code",
   "execution_count": 6,
   "id": "535e5610-791e-433d-81a0-78d92dc8f2ee",
   "metadata": {},
   "outputs": [
    {
     "data": {
      "text/plain": [
       "(181, 3)"
      ]
     },
     "execution_count": 6,
     "metadata": {},
     "output_type": "execute_result"
    }
   ],
   "source": [
    "data_wanted.shape"
   ]
  },
  {
   "cell_type": "code",
   "execution_count": 9,
   "id": "1a46c40b-4353-489c-ac6d-75dff5b7d9e4",
   "metadata": {},
   "outputs": [
    {
     "data": {
      "text/html": [
       "<div>\n",
       "<style scoped>\n",
       "    .dataframe tbody tr th:only-of-type {\n",
       "        vertical-align: middle;\n",
       "    }\n",
       "\n",
       "    .dataframe tbody tr th {\n",
       "        vertical-align: top;\n",
       "    }\n",
       "\n",
       "    .dataframe thead th {\n",
       "        text-align: right;\n",
       "    }\n",
       "</style>\n",
       "<table border=\"1\" class=\"dataframe\">\n",
       "  <thead>\n",
       "    <tr style=\"text-align: right;\">\n",
       "      <th></th>\n",
       "      <th>idx</th>\n",
       "      <th>objectID</th>\n",
       "      <th>hostless</th>\n",
       "    </tr>\n",
       "  </thead>\n",
       "  <tbody>\n",
       "    <tr>\n",
       "      <th>2</th>\n",
       "      <td>2</td>\n",
       "      <td>ZTF22aakkmri</td>\n",
       "      <td>True</td>\n",
       "    </tr>\n",
       "    <tr>\n",
       "      <th>3</th>\n",
       "      <td>3</td>\n",
       "      <td>ZTF23aaawbsy</td>\n",
       "      <td>True</td>\n",
       "    </tr>\n",
       "    <tr>\n",
       "      <th>6</th>\n",
       "      <td>6</td>\n",
       "      <td>ZTF18abtvstb</td>\n",
       "      <td>True</td>\n",
       "    </tr>\n",
       "    <tr>\n",
       "      <th>7</th>\n",
       "      <td>7</td>\n",
       "      <td>ZTF22aaftcmp</td>\n",
       "      <td>True</td>\n",
       "    </tr>\n",
       "    <tr>\n",
       "      <th>9</th>\n",
       "      <td>9</td>\n",
       "      <td>ZTF23aacdnjz</td>\n",
       "      <td>True</td>\n",
       "    </tr>\n",
       "    <tr>\n",
       "      <th>...</th>\n",
       "      <td>...</td>\n",
       "      <td>...</td>\n",
       "      <td>...</td>\n",
       "    </tr>\n",
       "    <tr>\n",
       "      <th>175</th>\n",
       "      <td>175</td>\n",
       "      <td>ZTF23aadbswn</td>\n",
       "      <td>True</td>\n",
       "    </tr>\n",
       "    <tr>\n",
       "      <th>176</th>\n",
       "      <td>176</td>\n",
       "      <td>ZTF23aapvrkk</td>\n",
       "      <td>True</td>\n",
       "    </tr>\n",
       "    <tr>\n",
       "      <th>178</th>\n",
       "      <td>178</td>\n",
       "      <td>ZTF22aaahull</td>\n",
       "      <td>True</td>\n",
       "    </tr>\n",
       "    <tr>\n",
       "      <th>179</th>\n",
       "      <td>179</td>\n",
       "      <td>ZTF22aaszlph</td>\n",
       "      <td>True</td>\n",
       "    </tr>\n",
       "    <tr>\n",
       "      <th>180</th>\n",
       "      <td>180</td>\n",
       "      <td>ZTF22abfxmvf</td>\n",
       "      <td>True</td>\n",
       "    </tr>\n",
       "  </tbody>\n",
       "</table>\n",
       "<p>118 rows × 3 columns</p>\n",
       "</div>"
      ],
      "text/plain": [
       "     idx      objectID  hostless\n",
       "2      2  ZTF22aakkmri      True\n",
       "3      3  ZTF23aaawbsy      True\n",
       "6      6  ZTF18abtvstb      True\n",
       "7      7  ZTF22aaftcmp      True\n",
       "9      9  ZTF23aacdnjz      True\n",
       "..   ...           ...       ...\n",
       "175  175  ZTF23aadbswn      True\n",
       "176  176  ZTF23aapvrkk      True\n",
       "178  178  ZTF22aaahull      True\n",
       "179  179  ZTF22aaszlph      True\n",
       "180  180  ZTF22abfxmvf      True\n",
       "\n",
       "[118 rows x 3 columns]"
      ]
     },
     "execution_count": 9,
     "metadata": {},
     "output_type": "execute_result"
    }
   ],
   "source": [
    "data_wanted[data_wanted['hostless'] == True]"
   ]
  },
  {
   "cell_type": "code",
   "execution_count": 44,
   "id": "8405dce6-ea7c-4e8f-a468-a0ac9efdfeb2",
   "metadata": {},
   "outputs": [],
   "source": [
    "\n",
    "wanted_names = list(data_wanted[data_wanted['hostless']]['objectID'])\n",
    "\n",
    "should_not_survive =  list(data_wanted[~data_wanted['hostless']]['objectID'])\n",
    "\n",
    "sso_names = ['ZTF22abbbydh','ZTF23aaoqpbu','ZTF22abdgjks','ZTF23aasnmmq','ZTF22abhfiew','ZTF22abisymj','ZTF22abfbxop',\n",
    "             'ZTF22abhhnzr','ZTF23aasnmru','ZTF22abqmkvz','ZTF23aasnmke','ZTF23aasnisu','ZTF22abmzlbw','ZTF22ablizvx',\n",
    "             'ZTF22abngynh','ZTF22abmgjsc','ZTF22aaodjcr','ZTF22abpugfh','ZTF22abjiryo','ZTF23aaoginy','ZTF22abhifxw',\n",
    "             'ZTF23aaogjqe','ZTF23aaogjku','ZTF23aaummdv','ZTF23aaogigp','ZTF23aaogiju','ZTF23aaogins','ZTF22aadtiqy',\n",
    "             'ZTF23aauyuxn','ZTF22aautkkx','ZTF23aaogiaf','ZTF22aaamcvt','ZTF23aaugvmy','ZTF23aaoghvk','ZTF22aavchkl',\n",
    "             'ZTF23aaofwyr','ZTF23aaogjzn','ZTF23aaoggla','ZTF22abbxmvp','ZTF22abjkduc','ZTF23aaogjoi','ZTF23aanbiwv',\n",
    "             'ZTF23aaotrxv','ZTF23aaofzxw','ZTF22abpuvwl','ZTF22aavchdb','ZTF23aasoswf','ZTF22aalbvkt','ZTF23aaogpip',\n",
    "             'ZTF22aaamctk','ZTF22aaemvon','ZTF23aalvzey','ZTF23aaogfwq','ZTF23aaogpix','ZTF22aarxhdg','ZTF22abkwgdf',\n",
    "             'ZTF23aaogfzp','ZTF23aakabyo','ZTF23aaogjqd','ZTF22aaerjna','ZTF23aaogjgw','ZTF22aacqokz','ZTF23aaognat',\n",
    "             'ZTF23aaogjor','ZTF22aadgikt','ZTF22abgcphv','ZTF23aaogihz','ZTF23aaogijv','ZTF22aamslae','ZTF23aaofzxv',\n",
    "             'ZTF22aahhaxl','ZTF23aaogfbe','ZTF23aaogiin','ZTF23aaoggtk','ZTF23aaogkze','ZTF23aaqzujy','ZTF22aachsxl',\n",
    "             'ZTF22abqmgeg','ZTF22aammugu','ZTF23aanxmyw','ZTF22aacbhed','ZTF23aakmhew','ZTF23aaogggc','ZTF23aasnoqs',\n",
    "             'ZTF22abdaraj','ZTF23aaogjts','ZTF23aaoggkr','ZTF22abdfcni','ZTF22abgdimv','ZTF23aaogijq','ZTF23aaouwwj',\n",
    "             'ZTF23aasnopz','ZTF23aaogfyw','ZTF22abqcija','ZTF23aarkjme','ZTF22aafrcia','ZTF23aaogfgz','ZTF23aaoggtx',\n",
    "             'ZTF22aapfnai']"
   ]
  },
  {
   "cell_type": "code",
   "execution_count": 45,
   "id": "d25bfcf5-bb30-4377-ba83-2e258323c5a8",
   "metadata": {},
   "outputs": [
    {
     "data": {
      "text/plain": [
       "(181, 3)"
      ]
     },
     "execution_count": 45,
     "metadata": {},
     "output_type": "execute_result"
    }
   ],
   "source": [
    "data_wanted.shape"
   ]
  },
  {
   "cell_type": "code",
   "execution_count": 46,
   "id": "2fc7d6a1-b428-4306-8dee-b62b0e33627a",
   "metadata": {},
   "outputs": [],
   "source": [
    "fname_use = '/media/emille/git/COIN/CRP7/hostless/code/power_spectrum_analysis_20240314.csv'\n",
    "\n",
    "op = open(fname_use, 'w')\n",
    "op.write('name,answer,ks_sci_stat_7,ks_sci_stat_15,ks_sci_stat_29,ks_temp_stat_7,ks_temp_stat_15,ks_temp_stat_29,' + \\\n",
    "             'ks_sci_pvalue_7,ks_sci_pvalue_15,ks_sci_pvalue_29,ks_temp_pvalue_7,ks_temp_pvalue_15,ks_temp_pvalue_29,'\n",
    "             'ad_sci_stat_7,ad_sci_stat_15,ad_sci_stat_29,ad_temp_stat_7,ad_temp_stat_15,ad_temp_stat_29,' + \\\n",
    "             'ad_sci_pvalue_7,ad_sci_pvalue_15,ad_sci_pvalue_29,ad_temp_pvalue_7,ad_temp_pvalue_15,ad_temp_pvalue_29\\n')\n",
    "op.close()"
   ]
  },
  {
   "cell_type": "code",
   "execution_count": 47,
   "id": "1800d20d-1990-485f-94d0-33a89316532e",
   "metadata": {},
   "outputs": [
    {
     "name": "stdout",
     "output_type": "stream",
     "text": [
      "Number SSO:  99    unique:  99\n",
      "Number should not survive:  63    unique:  63\n",
      "Number wanted:  118    unique:  118\n"
     ]
    }
   ],
   "source": [
    "# check if tables are consistent\n",
    "print('Number SSO: ', len(sso_names), '   unique: ', np.unique(np.array(sso_names)).shape[0])\n",
    "print('Number should not survive: ', len(should_not_survive), '   unique: ', np.unique(np.array(should_not_survive)).shape[0])\n",
    "print('Number wanted: ', len(wanted_names), '   unique: ', np.unique(np.array(wanted_names)).shape[0])"
   ]
  },
  {
   "cell_type": "code",
   "execution_count": 51,
   "id": "26ff0a82-511d-485d-92d1-7622d45c204a",
   "metadata": {},
   "outputs": [],
   "source": [
    "res_directory = '/media3/CRP7/hosts/misc_results/power_spec_output/'"
   ]
  },
  {
   "cell_type": "code",
   "execution_count": 52,
   "id": "16d8601c-c1af-43ab-855d-a19c7925e3be",
   "metadata": {},
   "outputs": [],
   "source": [
    "done_ids = []\n",
    "\n",
    "for i in range(len(should_not_survive)):\n",
    "    \n",
    "    fname_ks = res_directory + should_not_survive[i] + '_kstest.csv'\n",
    "    objid = should_not_survive[i]\n",
    "    \n",
    "    if objid not in done_ids and os.path.isfile(fname_ks):        \n",
    "        \n",
    "        data_ks = pd.read_csv(fname_ks)\n",
    "\n",
    "        name_ad = res_directory + should_not_survive[i] + '_anderson-darling.csv'\n",
    "        if os.path.isfile(name_ad):\n",
    "            data_ad = pd.read_csv(name_ad)\n",
    "        else:\n",
    "            data_ad = pd.DataFrame(np.full(data_ks.shape, -99), columns=data_ks.keys())\n",
    "\n",
    "        op = open(fname_use, 'a')\n",
    "        ans = 'should_not_survive'\n",
    "        op.write(objid + ',' + ans + ',')\n",
    "        for i in range(data_ks.shape[0]):\n",
    "            op.write(str(data_ks.values[i][2]) + ',')\n",
    "        for i in range(data_ks.shape[0]):\n",
    "            op.write(str(data_ks.values[i][3]) + ',')\n",
    "        for i in range(data_ad.shape[0]):\n",
    "            op.write(str(data_ad.values[i][2]) + ',')\n",
    "        for i in range(data_ad.shape[0] - 1):\n",
    "            op.write(str(data_ad.values[i][3]) + ',')\n",
    "        op.write(str(data_ad.values[-1][3]) + '\\n')\n",
    "        op.close()\n",
    "\n",
    "        done_ids.append(objid)\n",
    "        "
   ]
  },
  {
   "cell_type": "code",
   "execution_count": 53,
   "id": "9ac0028a-d316-482a-aafe-781cb6cb9608",
   "metadata": {},
   "outputs": [
    {
     "data": {
      "text/plain": [
       "(63,)"
      ]
     },
     "execution_count": 53,
     "metadata": {},
     "output_type": "execute_result"
    }
   ],
   "source": [
    "np.unique(np.array(done_ids)).shape"
   ]
  },
  {
   "cell_type": "code",
   "execution_count": 54,
   "id": "1f86c294-6bd4-44fb-8722-fce21cf5fffe",
   "metadata": {},
   "outputs": [
    {
     "data": {
      "text/plain": [
       "(63, 26)"
      ]
     },
     "execution_count": 54,
     "metadata": {},
     "output_type": "execute_result"
    }
   ],
   "source": [
    "data_done = pd.read_csv(fname_use)\n",
    "data_done.shape"
   ]
  },
  {
   "cell_type": "code",
   "execution_count": 55,
   "id": "9f282139-dfed-4de5-b9c5-47073fc88ea2",
   "metadata": {},
   "outputs": [
    {
     "data": {
      "text/plain": [
       "(63,)"
      ]
     },
     "execution_count": 55,
     "metadata": {},
     "output_type": "execute_result"
    }
   ],
   "source": [
    "np.unique(data_done['name']).shape"
   ]
  },
  {
   "cell_type": "code",
   "execution_count": 56,
   "id": "2d58b6e1-3953-4e7f-869d-2dfefc2a9e4d",
   "metadata": {},
   "outputs": [],
   "source": [
    "for i in range(len(sso_names)):\n",
    "    \n",
    "    fname_ks = res_directory + sso_names[i] + '_kstest.csv'\n",
    "    objid = sso_names[i]\n",
    "    \n",
    "    if objid not in done_ids and os.path.isfile(fname_ks):\n",
    "        \n",
    "        data_ks = pd.read_csv(fname_ks)\n",
    "\n",
    "        name_ad = res_directory + sso_names[i] + '_anderson-darling.csv'\n",
    "        if os.path.isfile(name_ad):\n",
    "            data_ad = pd.read_csv(name_ad)\n",
    "        else:\n",
    "            data_ad = pd.DataFrame(np.full(data_ks.shape, -99), columns=data_ks.keys())\n",
    "\n",
    "        op = open(fname_use, 'a')\n",
    "        ans = 'SSO'\n",
    "        op.write(objid + ',' + ans + ',')\n",
    "        for i in range(data_ks.shape[0]):\n",
    "            op.write(str(data_ks.values[i][2]) + ',')\n",
    "        for i in range(data_ks.shape[0]):\n",
    "            op.write(str(data_ks.values[i][3]) + ',')\n",
    "        for i in range(data_ad.shape[0]):\n",
    "            op.write(str(data_ad.values[i][2]) + ',')\n",
    "        for i in range(data_ad.shape[0] - 1):\n",
    "            op.write(str(data_ad.values[i][3]) + ',')\n",
    "        op.write(str(data_ad.values[-1][3]) + '\\n')\n",
    "        op.close()\n",
    "\n",
    "        done_ids.append(objid)\n",
    "        "
   ]
  },
  {
   "cell_type": "code",
   "execution_count": 57,
   "id": "d3531edd-b46a-4cac-bbab-a38f96c1518e",
   "metadata": {},
   "outputs": [
    {
     "data": {
      "text/plain": [
       "(162, 26)"
      ]
     },
     "execution_count": 57,
     "metadata": {},
     "output_type": "execute_result"
    }
   ],
   "source": [
    "data_done = pd.read_csv(fname_use)\n",
    "data_done.shape"
   ]
  },
  {
   "cell_type": "code",
   "execution_count": 58,
   "id": "9fd67e75-73d9-4cc2-bc61-935a2c8bd209",
   "metadata": {},
   "outputs": [
    {
     "data": {
      "text/plain": [
       "(162,)"
      ]
     },
     "execution_count": 58,
     "metadata": {},
     "output_type": "execute_result"
    }
   ],
   "source": [
    "np.unique(data_done['name']).shape"
   ]
  },
  {
   "cell_type": "code",
   "execution_count": 61,
   "id": "de3f2ac3-7f09-4061-9687-457d68b8ec62",
   "metadata": {},
   "outputs": [],
   "source": [
    "for i in range(len(wanted_names)):\n",
    "    \n",
    "    fname_ks = res_directory + wanted_names[i] + '_kstest.csv'\n",
    "    objid = wanted_names[i]\n",
    "    \n",
    "    if objid not in done_ids and os.path.isfile(fname_ks):\n",
    "        \n",
    "        data_ks = pd.read_csv(fname_ks)\n",
    "\n",
    "        name_ad = res_directory + wanted_names[i] + '_anderson-darling.csv'\n",
    "        if os.path.isfile(name_ad):\n",
    "            data_ad = pd.read_csv(name_ad)\n",
    "        else:\n",
    "            data_ad = pd.DataFrame(np.full(data_ks.shape, -99), columns=data_ks.keys())\n",
    "\n",
    "        op = open(fname_use, 'a')\n",
    "        ans = 'wanted'\n",
    "        op.write(objid + ',' + ans + ',')\n",
    "        for i in range(data_ks.shape[0]):\n",
    "            op.write(str(data_ks.values[i][2]) + ',')\n",
    "        for i in range(data_ks.shape[0]):\n",
    "            op.write(str(data_ks.values[i][3]) + ',')\n",
    "        for i in range(data_ad.shape[0]):\n",
    "            op.write(str(data_ad.values[i][2]) + ',')\n",
    "        for i in range(data_ad.shape[0] - 1):\n",
    "            op.write(str(data_ad.values[i][3]) + ',')\n",
    "        op.write(str(data_ad.values[-1][3]) + '\\n')\n",
    "        op.close()\n",
    "\n",
    "        done_ids.append(objid)\n",
    "        "
   ]
  },
  {
   "cell_type": "code",
   "execution_count": 62,
   "id": "d94dd0e4-314d-48a9-a221-f8fc09dd8bad",
   "metadata": {},
   "outputs": [
    {
     "data": {
      "text/plain": [
       "(280, 26)"
      ]
     },
     "execution_count": 62,
     "metadata": {},
     "output_type": "execute_result"
    }
   ],
   "source": [
    "data_done = pd.read_csv(fname_use)\n",
    "data_done.shape"
   ]
  },
  {
   "cell_type": "code",
   "execution_count": 63,
   "id": "afeb1e96-fd40-4575-bf4e-ed630bd6488f",
   "metadata": {},
   "outputs": [
    {
     "data": {
      "text/plain": [
       "(280,)"
      ]
     },
     "execution_count": 63,
     "metadata": {},
     "output_type": "execute_result"
    }
   ],
   "source": [
    "np.unique(data_done['name']).shape"
   ]
  },
  {
   "cell_type": "code",
   "execution_count": 64,
   "id": "be576c47-0f4a-4c57-96b3-3a5947a9bfb2",
   "metadata": {},
   "outputs": [],
   "source": [
    "data = data_done\n",
    "sso = data[data['answer'] == 'SSO']\n",
    "wanted = data[data['answer'] == 'wanted']\n",
    "out = data[data['answer'] == 'should_not_survive']"
   ]
  },
  {
   "cell_type": "code",
   "execution_count": 65,
   "id": "6dabbc27-8d51-4043-9ec1-8be5fede634e",
   "metadata": {},
   "outputs": [
    {
     "name": "stdout",
     "output_type": "stream",
     "text": [
      "SSO :  99\n",
      "should_not_survive :  63\n",
      "wanted :  118\n"
     ]
    }
   ],
   "source": [
    "name, pop = np.unique(data['answer'], return_counts=True)\n",
    "for i in range(len(name)):\n",
    "    print(name[i], ': ', pop[i])"
   ]
  },
  {
   "cell_type": "code",
   "execution_count": 81,
   "id": "b1960d53-48ce-4c31-af24-7128a8e7c015",
   "metadata": {},
   "outputs": [
    {
     "data": {
      "image/png": "[encoded data removed]",
      "text/plain": [
       "<Figure size 2400x1000 with 6 Axes>"
      ]
     },
     "metadata": {},
     "output_type": "display_data"
    }
   ],
   "source": [
    "nbins = 20\n",
    "\n",
    "plt.figure(figsize=(24,10))\n",
    "\n",
    "for i in range(2, 8):\n",
    "    name = list(data.keys())[i]\n",
    "    \n",
    "    plt.subplot(2,3,i-1)        \n",
    "    #plt.hist(sso[name], label='SSO', density=True, alpha=0.5, bins=nbins, color='red')\n",
    "    plt.hist(out[name], label='Should not survive', density=True, alpha=0.5, bins=nbins, color='green')\n",
    "    plt.hist(wanted[name], label='wanted', density=True, alpha=0.5, bins=nbins, color='red')\n",
    "    plt.xlabel(name)\n",
    "    plt.ylabel('PDF')\n",
    "    #plt.xscale('log')\n",
    "    plt.legend()\n",
    "\n",
    "plt.show()\n",
    "#plt.savefig('kstest_2classesb_log.png')"
   ]
  },
  {
   "cell_type": "code",
   "execution_count": 135,
   "id": "d5b6cef8-2fc4-4c57-97c2-7acb3da7ca16",
   "metadata": {},
   "outputs": [
    {
     "data": {
      "image/png": "[encoded data removed]",
      "text/plain": [
       "<Figure size 2400x500 with 3 Axes>"
      ]
     },
     "metadata": {},
     "output_type": "display_data"
    }
   ],
   "source": [
    "colors={\"orange\":\"#ED9145\",\"dark_brown\":\"473832\",\"beige\":\"E2D3C1\",\"rose\":\"BC7E74\",\n",
    "        \"dark_blue\":\"#21609D\",\"light_blue\":\"5C92C1\",\"dark_gray\":\"4D5966\",\n",
    "        \"black\":\"27242A\",\"light_gray\":\"8999A1\",\"golden_brown\":\"87581D\"}\n",
    "\n",
    "colors_use = [colors['orange'], colors['dark_blue']]\n",
    "\n",
    "nbins = 20\n",
    "stamp = 'temp'\n",
    "\n",
    "sizes = ['7','15', '29']\n",
    "\n",
    "plt.figure(figsize=(24,5))\n",
    "\n",
    "for i in range(3):\n",
    "    \n",
    "    plt.subplot(1,3,i+1)        \n",
    "    plt.hist(out['ks_' + stamp +'_stat_' + sizes[i]], label='with host', \n",
    "             density=True, alpha=0.75, bins=nbins, color=colors['orange'])\n",
    "    plt.hist(list(wanted['ks_' + stamp +'_stat_' + sizes[i]]), \n",
    "             label='hostless', \n",
    "             density=True, alpha=0.75, bins=nbins, color=colors['dark_blue'])\n",
    "    plt.xlabel('K-S statistics', fontsize=22)\n",
    "    plt.ylabel('PDF', fontsize=22)\n",
    "    plt.xticks(fontsize=15)\n",
    "    plt.yticks(fontsize=15)\n",
    "    #plt.xscale('log')\n",
    "    plt.legend(fontsize=18, title=sizes[i] + ' x ' + sizes[i], title_fontsize=18)\n",
    "\n",
    "plt.tight_layout()\n",
    "plt.savefig('KS_statistics.pdf')"
   ]
  },
  {
   "cell_type": "code",
   "execution_count": 139,
   "id": "de13b289-5a3a-484f-b4ce-391b1a42e9c4",
   "metadata": {
    "scrolled": true
   },
   "outputs": [
    {
     "data": {
      "text/plain": [
       "count    118.000000\n",
       "mean       0.216760\n",
       "std        0.158065\n",
       "min        0.029573\n",
       "25%        0.112155\n",
       "50%        0.175050\n",
       "75%        0.256106\n",
       "max        0.915477\n",
       "Name: ks_temp_stat_7, dtype: float64"
      ]
     },
     "execution_count": 139,
     "metadata": {},
     "output_type": "execute_result"
    }
   ],
   "source": [
    "wanted['ks_temp_stat_7'].describe()"
   ]
  },
  {
   "cell_type": "code",
   "execution_count": 140,
   "id": "17ceb448-9e52-40f0-a655-3ea3634d92b5",
   "metadata": {},
   "outputs": [
    {
     "data": {
      "text/plain": [
       "count    118.000000\n",
       "mean       0.344144\n",
       "std        0.226169\n",
       "min        0.040854\n",
       "25%        0.160377\n",
       "50%        0.284711\n",
       "75%        0.473134\n",
       "max        0.907513\n",
       "Name: ks_temp_stat_15, dtype: float64"
      ]
     },
     "execution_count": 140,
     "metadata": {},
     "output_type": "execute_result"
    }
   ],
   "source": [
    "wanted['ks_temp_stat_15'].describe()"
   ]
  },
  {
   "cell_type": "code",
   "execution_count": 141,
   "id": "983f6587-1120-4a80-a50d-af511796fad5",
   "metadata": {},
   "outputs": [
    {
     "data": {
      "text/plain": [
       "count    118.000000\n",
       "mean       0.752069\n",
       "std        0.193299\n",
       "min        0.095553\n",
       "25%        0.644617\n",
       "50%        0.778442\n",
       "75%        0.908329\n",
       "max        0.989422\n",
       "Name: ks_temp_stat_29, dtype: float64"
      ]
     },
     "execution_count": 141,
     "metadata": {},
     "output_type": "execute_result"
    }
   ],
   "source": [
    "wanted['ks_temp_stat_29'].describe()"
   ]
  },
  {
   "cell_type": "code",
   "execution_count": 136,
   "id": "2cd46aba-c21e-4d17-8f72-3c08dd665c91",
   "metadata": {},
   "outputs": [
    {
     "data": {
      "text/plain": [
       "{'7': 39, '15': 40, '29': 44}"
      ]
     },
     "execution_count": 136,
     "metadata": {},
     "output_type": "execute_result"
    }
   ],
   "source": [
    "# determine number of contaminats\n",
    "\n",
    "sizes = ['7', '15', '29']\n",
    "thresholds = [0.25, 0.5, 0.9]\n",
    "contaminants = {}\n",
    "\n",
    "for i in range(len(sizes)):\n",
    "    cont_temp = out[out['ks_temp_stat_' + sizes[i]] < thresholds[i]]['name']\n",
    "    cont_sci = out[out['ks_sci_stat_' + sizes[i]] < thresholds[i]]['name']\n",
    "    all_cont = pd.concat([cont_temp, cont_sci], ignore_index=True)\n",
    "    contaminants[sizes[i]] = np.unique(all_cont.values).shape[0]\n",
    "\n",
    "contaminants"
   ]
  },
  {
   "cell_type": "code",
   "execution_count": 137,
   "id": "9ad61019-67b8-4f27-b656-de35bfbdd490",
   "metadata": {},
   "outputs": [
    {
     "data": {
      "text/plain": [
       "{'7': 39, '15': 40, '29': 44}"
      ]
     },
     "execution_count": 137,
     "metadata": {},
     "output_type": "execute_result"
    }
   ],
   "source": [
    "hostless = {}\n",
    "\n",
    "for i in range(len(sizes)):\n",
    "    hostless_temp = wanted[wanted['ks_temp_stat_' + sizes[i]] < thresholds[i]]['name']\n",
    "    hostless_sci = wanted[wanted['ks_sci_stat_' + sizes[i]] < thresholds[i]]['name']\n",
    "    all_hostless = pd.concat([hostless_temp, hostless_sci], ignore_index=True)\n",
    "    hostless[sizes[i]] = np.unique(all_hostless.values).shape[0]\n",
    "\n",
    "contaminants"
   ]
  },
  {
   "cell_type": "code",
   "execution_count": 138,
   "id": "423d7bde-f369-4a17-895b-0221944dedc8",
   "metadata": {},
   "outputs": [
    {
     "name": "stdout",
     "output_type": "stream",
     "text": [
      "Contamination:  27.08\n",
      "Contamination:  25.97\n",
      "Contamination:  27.33\n"
     ]
    }
   ],
   "source": [
    "for i in range(len(sizes)):\n",
    "     print('Contamination: ', \n",
    "           np.round(100 * (contaminants[sizes[i]]/(contaminants[sizes[i]] + hostless[sizes[i]])),2))"
   ]
  },
  {
   "cell_type": "code",
   "execution_count": null,
   "id": "0d110bae-4630-4bd8-bafa-be6d525bdba8",
   "metadata": {},
   "outputs": [],
   "source": []
  },
  {
   "cell_type": "code",
   "execution_count": null,
   "id": "49a4e3ca-c650-4a1d-94a0-7c1a1e0e0ec3",
   "metadata": {},
   "outputs": [],
   "source": []
  }
 ],
 "metadata": {
  "kernelspec": {
   "display_name": "Python 3 (ipykernel)",
   "language": "python",
   "name": "python3"
  },
  "language_info": {
   "codemirror_mode": {
    "name": "ipython",
    "version": 3
   },
   "file_extension": ".py",
   "mimetype": "text/x-python",
   "name": "python",
   "nbconvert_exporter": "python",
   "pygments_lexer": "ipython3",
   "version": "3.8.14"
  }
 },
 "nbformat": 4,
 "nbformat_minor": 5
}
