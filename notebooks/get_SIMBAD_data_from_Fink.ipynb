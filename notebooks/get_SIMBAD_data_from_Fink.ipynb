{
 "cells": [
  {
   "cell_type": "code",
   "execution_count": 1,
   "id": "093db5e0-bd5e-47fb-b36b-fd92fc9c3228",
   "metadata": {},
   "outputs": [],
   "source": [
    "import io\n",
    "import matplotlib.pylab as plt\n",
    "import numpy as np\n",
    "import pandas as pd\n",
    "import requests\n",
    "from copy import deepcopy\n",
    "from datetime import datetime\n",
    "from glob import glob"
   ]
  },
  {
   "cell_type": "code",
   "execution_count": 2,
   "id": "8d7015ba-a1bc-447b-975e-db5238a2089d",
   "metadata": {},
   "outputs": [],
   "source": [
    "# read data from the download service -- alert-based\n",
    "\n",
    "class_name = 'SB%2A'\n",
    "dirname = \"/media3/CRP7/hosts/data/SIMBAD/Apr2023/ftransfer_ztf_2023-08-31_137151/finkclass=\" + class_name + \"/\"\n",
    "data_all = pd.read_parquet(dirname)\n",
    "data_all['class'] = class_name"
   ]
  },
  {
   "cell_type": "code",
   "execution_count": 3,
   "id": "06b6f2b3-d904-4c91-b08b-481d7195d68b",
   "metadata": {},
   "outputs": [
    {
     "data": {
      "text/plain": [
       "(4863, 38)"
      ]
     },
     "execution_count": 3,
     "metadata": {},
     "output_type": "execute_result"
    }
   ],
   "source": [
    "data_all.shape"
   ]
  },
  {
   "cell_type": "code",
   "execution_count": 4,
   "id": "c0c75f71-22b0-46a4-8105-777d2e9561d0",
   "metadata": {},
   "outputs": [],
   "source": [
    "# get objectId \n",
    "objid_list = list(np.unique(data_all['objectId'].values))"
   ]
  },
  {
   "cell_type": "code",
   "execution_count": 5,
   "id": "9b9e18a2-f0a7-4f6c-acd4-8b5dcebae32c",
   "metadata": {},
   "outputs": [
    {
     "data": {
      "text/plain": [
       "2918"
      ]
     },
     "execution_count": 5,
     "metadata": {},
     "output_type": "execute_result"
    }
   ],
   "source": [
    "len(objid_list)"
   ]
  },
  {
   "cell_type": "code",
   "execution_count": 6,
   "id": "610745de-42c8-4826-9406-2636bb704c93",
   "metadata": {},
   "outputs": [],
   "source": [
    "batch = 2"
   ]
  },
  {
   "cell_type": "raw",
   "id": "063b876f-0acd-4a66-a58b-d1f9546c2fcd",
   "metadata": {},
   "source": [
    "i = 8\n",
    "\n",
    "objid_str = ','.join(objid_list[170:180])\n",
    "\n",
    "# query the server for the rest of the information\n",
    "r = requests.post(\n",
    "          'https://fink-portal.org/api/v1/objects',\n",
    "          json={\n",
    "             'objectId': objid_str,\n",
    "             'withcutouts': 'True'\n",
    "        }\n",
    "    )\n",
    "\n",
    "# Format output in a DataFrame\n",
    "pdf = pd.read_json(io.BytesIO(r.content))\n",
    "    \n",
    "pdf.to_pickle('/media3/CRP7/hosts/data/SIMBAD/Apr2023/obj_info/finkclass='+class_name+\\\n",
    "              '/SIMBAD_Apr2023_batch_' + str(i) + 'b.pickle')"
   ]
  },
  {
   "cell_type": "code",
   "execution_count": 10,
   "id": "3ca2773c-c3e2-44dd-b9f7-d5fef2dd402e",
   "metadata": {},
   "outputs": [
    {
     "name": "stdout",
     "output_type": "stream",
     "text": [
      "467   --   934 : 936\n",
      "468   --   936 : 938\n",
      "469   --   938 : 940\n",
      "470   --   940 : 942\n",
      "471   --   942 : 944\n",
      "472   --   944 : 946\n",
      "473   --   946 : 948\n",
      "474   --   948 : 950\n",
      "475   --   950 : 952\n",
      "476   --   952 : 954\n",
      "477   --   954 : 956\n",
      "478   --   956 : 958\n",
      "479   --   958 : 960\n",
      "480   --   960 : 962\n",
      "481   --   962 : 964\n",
      "482   --   964 : 966\n",
      "483   --   966 : 968\n",
      "484   --   968 : 970\n",
      "485   --   970 : 972\n",
      "486   --   972 : 974\n",
      "487   --   974 : 976\n",
      "488   --   976 : 978\n",
      "489   --   978 : 980\n",
      "490   --   980 : 982\n",
      "491   --   982 : 984\n",
      "492   --   984 : 986\n",
      "493   --   986 : 988\n",
      "494   --   988 : 990\n",
      "495   --   990 : 992\n",
      "496   --   992 : 994\n",
      "497   --   994 : 996\n",
      "498   --   996 : 998\n",
      "499   --   998 : 1000\n",
      "500   --   1000 : 1002\n",
      "501   --   1002 : 1004\n",
      "502   --   1004 : 1006\n",
      "503   --   1006 : 1008\n",
      "504   --   1008 : 1010\n",
      "505   --   1010 : 1012\n",
      "506   --   1012 : 1014\n",
      "507   --   1014 : 1016\n",
      "508   --   1016 : 1018\n",
      "509   --   1018 : 1020\n",
      "510   --   1020 : 1022\n",
      "511   --   1022 : 1024\n",
      "512   --   1024 : 1026\n",
      "513   --   1026 : 1028\n",
      "514   --   1028 : 1030\n",
      "515   --   1030 : 1032\n"
     ]
    },
    {
     "ename": "ValueError",
     "evalue": "Expected object or value",
     "output_type": "error",
     "traceback": [
      "\u001b[0;31m---------------------------------------------------------------------------\u001b[0m",
      "\u001b[0;31mValueError\u001b[0m                                Traceback (most recent call last)",
      "Cell \u001b[0;32mIn[10], line 15\u001b[0m\n\u001b[1;32m      6\u001b[0m r \u001b[38;5;241m=\u001b[39m requests\u001b[38;5;241m.\u001b[39mpost(\n\u001b[1;32m      7\u001b[0m       \u001b[38;5;124m'\u001b[39m\u001b[38;5;124mhttps://fink-portal.org/api/v1/objects\u001b[39m\u001b[38;5;124m'\u001b[39m,\n\u001b[1;32m      8\u001b[0m       json\u001b[38;5;241m=\u001b[39m{\n\u001b[0;32m   (...)\u001b[0m\n\u001b[1;32m     11\u001b[0m     }\n\u001b[1;32m     12\u001b[0m )\n\u001b[1;32m     14\u001b[0m \u001b[38;5;66;03m# Format output in a DataFrame\u001b[39;00m\n\u001b[0;32m---> 15\u001b[0m pdf \u001b[38;5;241m=\u001b[39m \u001b[43mpd\u001b[49m\u001b[38;5;241;43m.\u001b[39;49m\u001b[43mread_json\u001b[49m\u001b[43m(\u001b[49m\u001b[43mio\u001b[49m\u001b[38;5;241;43m.\u001b[39;49m\u001b[43mBytesIO\u001b[49m\u001b[43m(\u001b[49m\u001b[43mr\u001b[49m\u001b[38;5;241;43m.\u001b[39;49m\u001b[43mcontent\u001b[49m\u001b[43m)\u001b[49m\u001b[43m)\u001b[49m\n\u001b[1;32m     17\u001b[0m pdf\u001b[38;5;241m.\u001b[39mto_pickle(\u001b[38;5;124m'\u001b[39m\u001b[38;5;124m/media3/CRP7/hosts/data/SIMBAD/Apr2023/obj_info/finkclass=\u001b[39m\u001b[38;5;124m'\u001b[39m \u001b[38;5;241m+\u001b[39m class_name \u001b[38;5;241m+\u001b[39m\u001b[38;5;124m'\u001b[39m\u001b[38;5;124m/SIMBAD_Apr2023_batch_\u001b[39m\u001b[38;5;124m'\u001b[39m \u001b[38;5;241m+\u001b[39m \u001b[38;5;28mstr\u001b[39m(i) \u001b[38;5;241m+\u001b[39m \u001b[38;5;124m'\u001b[39m\u001b[38;5;124m.pickle\u001b[39m\u001b[38;5;124m'\u001b[39m)\n",
      "File \u001b[0;32m/media3/CRP7/hosts/venv/hosts_env/lib/python3.10/site-packages/pandas/io/json/_json.py:804\u001b[0m, in \u001b[0;36mread_json\u001b[0;34m(path_or_buf, orient, typ, dtype, convert_axes, convert_dates, keep_default_dates, precise_float, date_unit, encoding, encoding_errors, lines, chunksize, compression, nrows, storage_options, dtype_backend, engine)\u001b[0m\n\u001b[1;32m    802\u001b[0m     \u001b[38;5;28;01mreturn\u001b[39;00m json_reader\n\u001b[1;32m    803\u001b[0m \u001b[38;5;28;01melse\u001b[39;00m:\n\u001b[0;32m--> 804\u001b[0m     \u001b[38;5;28;01mreturn\u001b[39;00m \u001b[43mjson_reader\u001b[49m\u001b[38;5;241;43m.\u001b[39;49m\u001b[43mread\u001b[49m\u001b[43m(\u001b[49m\u001b[43m)\u001b[49m\n",
      "File \u001b[0;32m/media3/CRP7/hosts/venv/hosts_env/lib/python3.10/site-packages/pandas/io/json/_json.py:1014\u001b[0m, in \u001b[0;36mJsonReader.read\u001b[0;34m(self)\u001b[0m\n\u001b[1;32m   1012\u001b[0m         obj \u001b[38;5;241m=\u001b[39m \u001b[38;5;28mself\u001b[39m\u001b[38;5;241m.\u001b[39m_get_object_parser(\u001b[38;5;28mself\u001b[39m\u001b[38;5;241m.\u001b[39m_combine_lines(data_lines))\n\u001b[1;32m   1013\u001b[0m \u001b[38;5;28;01melse\u001b[39;00m:\n\u001b[0;32m-> 1014\u001b[0m     obj \u001b[38;5;241m=\u001b[39m \u001b[38;5;28;43mself\u001b[39;49m\u001b[38;5;241;43m.\u001b[39;49m\u001b[43m_get_object_parser\u001b[49m\u001b[43m(\u001b[49m\u001b[38;5;28;43mself\u001b[39;49m\u001b[38;5;241;43m.\u001b[39;49m\u001b[43mdata\u001b[49m\u001b[43m)\u001b[49m\n\u001b[1;32m   1015\u001b[0m \u001b[38;5;28;01mif\u001b[39;00m \u001b[38;5;28mself\u001b[39m\u001b[38;5;241m.\u001b[39mdtype_backend \u001b[38;5;129;01mis\u001b[39;00m \u001b[38;5;129;01mnot\u001b[39;00m lib\u001b[38;5;241m.\u001b[39mno_default:\n\u001b[1;32m   1016\u001b[0m     \u001b[38;5;28;01mreturn\u001b[39;00m obj\u001b[38;5;241m.\u001b[39mconvert_dtypes(\n\u001b[1;32m   1017\u001b[0m         infer_objects\u001b[38;5;241m=\u001b[39m\u001b[38;5;28;01mFalse\u001b[39;00m, dtype_backend\u001b[38;5;241m=\u001b[39m\u001b[38;5;28mself\u001b[39m\u001b[38;5;241m.\u001b[39mdtype_backend\n\u001b[1;32m   1018\u001b[0m     )\n",
      "File \u001b[0;32m/media3/CRP7/hosts/venv/hosts_env/lib/python3.10/site-packages/pandas/io/json/_json.py:1040\u001b[0m, in \u001b[0;36mJsonReader._get_object_parser\u001b[0;34m(self, json)\u001b[0m\n\u001b[1;32m   1038\u001b[0m obj \u001b[38;5;241m=\u001b[39m \u001b[38;5;28;01mNone\u001b[39;00m\n\u001b[1;32m   1039\u001b[0m \u001b[38;5;28;01mif\u001b[39;00m typ \u001b[38;5;241m==\u001b[39m \u001b[38;5;124m\"\u001b[39m\u001b[38;5;124mframe\u001b[39m\u001b[38;5;124m\"\u001b[39m:\n\u001b[0;32m-> 1040\u001b[0m     obj \u001b[38;5;241m=\u001b[39m \u001b[43mFrameParser\u001b[49m\u001b[43m(\u001b[49m\u001b[43mjson\u001b[49m\u001b[43m,\u001b[49m\u001b[43m \u001b[49m\u001b[38;5;241;43m*\u001b[39;49m\u001b[38;5;241;43m*\u001b[39;49m\u001b[43mkwargs\u001b[49m\u001b[43m)\u001b[49m\u001b[38;5;241;43m.\u001b[39;49m\u001b[43mparse\u001b[49m\u001b[43m(\u001b[49m\u001b[43m)\u001b[49m\n\u001b[1;32m   1042\u001b[0m \u001b[38;5;28;01mif\u001b[39;00m typ \u001b[38;5;241m==\u001b[39m \u001b[38;5;124m\"\u001b[39m\u001b[38;5;124mseries\u001b[39m\u001b[38;5;124m\"\u001b[39m \u001b[38;5;129;01mor\u001b[39;00m obj \u001b[38;5;129;01mis\u001b[39;00m \u001b[38;5;28;01mNone\u001b[39;00m:\n\u001b[1;32m   1043\u001b[0m     \u001b[38;5;28;01mif\u001b[39;00m \u001b[38;5;129;01mnot\u001b[39;00m \u001b[38;5;28misinstance\u001b[39m(dtype, \u001b[38;5;28mbool\u001b[39m):\n",
      "File \u001b[0;32m/media3/CRP7/hosts/venv/hosts_env/lib/python3.10/site-packages/pandas/io/json/_json.py:1173\u001b[0m, in \u001b[0;36mParser.parse\u001b[0;34m(self)\u001b[0m\n\u001b[1;32m   1172\u001b[0m \u001b[38;5;28;01mdef\u001b[39;00m \u001b[38;5;21mparse\u001b[39m(\u001b[38;5;28mself\u001b[39m):\n\u001b[0;32m-> 1173\u001b[0m     \u001b[38;5;28;43mself\u001b[39;49m\u001b[38;5;241;43m.\u001b[39;49m\u001b[43m_parse\u001b[49m\u001b[43m(\u001b[49m\u001b[43m)\u001b[49m\n\u001b[1;32m   1175\u001b[0m     \u001b[38;5;28;01mif\u001b[39;00m \u001b[38;5;28mself\u001b[39m\u001b[38;5;241m.\u001b[39mobj \u001b[38;5;129;01mis\u001b[39;00m \u001b[38;5;28;01mNone\u001b[39;00m:\n\u001b[1;32m   1176\u001b[0m         \u001b[38;5;28;01mreturn\u001b[39;00m \u001b[38;5;28;01mNone\u001b[39;00m\n",
      "File \u001b[0;32m/media3/CRP7/hosts/venv/hosts_env/lib/python3.10/site-packages/pandas/io/json/_json.py:1366\u001b[0m, in \u001b[0;36mFrameParser._parse\u001b[0;34m(self)\u001b[0m\n\u001b[1;32m   1362\u001b[0m orient \u001b[38;5;241m=\u001b[39m \u001b[38;5;28mself\u001b[39m\u001b[38;5;241m.\u001b[39morient\n\u001b[1;32m   1364\u001b[0m \u001b[38;5;28;01mif\u001b[39;00m orient \u001b[38;5;241m==\u001b[39m \u001b[38;5;124m\"\u001b[39m\u001b[38;5;124mcolumns\u001b[39m\u001b[38;5;124m\"\u001b[39m:\n\u001b[1;32m   1365\u001b[0m     \u001b[38;5;28mself\u001b[39m\u001b[38;5;241m.\u001b[39mobj \u001b[38;5;241m=\u001b[39m DataFrame(\n\u001b[0;32m-> 1366\u001b[0m         \u001b[43mujson_loads\u001b[49m\u001b[43m(\u001b[49m\u001b[43mjson\u001b[49m\u001b[43m,\u001b[49m\u001b[43m \u001b[49m\u001b[43mprecise_float\u001b[49m\u001b[38;5;241;43m=\u001b[39;49m\u001b[38;5;28;43mself\u001b[39;49m\u001b[38;5;241;43m.\u001b[39;49m\u001b[43mprecise_float\u001b[49m\u001b[43m)\u001b[49m, dtype\u001b[38;5;241m=\u001b[39m\u001b[38;5;28;01mNone\u001b[39;00m\n\u001b[1;32m   1367\u001b[0m     )\n\u001b[1;32m   1368\u001b[0m \u001b[38;5;28;01melif\u001b[39;00m orient \u001b[38;5;241m==\u001b[39m \u001b[38;5;124m\"\u001b[39m\u001b[38;5;124msplit\u001b[39m\u001b[38;5;124m\"\u001b[39m:\n\u001b[1;32m   1369\u001b[0m     decoded \u001b[38;5;241m=\u001b[39m {\n\u001b[1;32m   1370\u001b[0m         \u001b[38;5;28mstr\u001b[39m(k): v\n\u001b[1;32m   1371\u001b[0m         \u001b[38;5;28;01mfor\u001b[39;00m k, v \u001b[38;5;129;01min\u001b[39;00m ujson_loads(json, precise_float\u001b[38;5;241m=\u001b[39m\u001b[38;5;28mself\u001b[39m\u001b[38;5;241m.\u001b[39mprecise_float)\u001b[38;5;241m.\u001b[39mitems()\n\u001b[1;32m   1372\u001b[0m     }\n",
      "\u001b[0;31mValueError\u001b[0m: Expected object or value"
     ]
    }
   ],
   "source": [
    "for i in range(467, 1 + len(objid_list) // batch):\n",
    "    print(i, '  --  ', i * batch, ':', (i + 1) * batch)\n",
    "    objid_str = ','.join(objid_list[i * batch: (i + 1) * batch])\n",
    "\n",
    "    # query the server for the rest of the information\n",
    "    r = requests.post(\n",
    "          'https://fink-portal.org/api/v1/objects',\n",
    "          json={\n",
    "             'objectId': objid_str,\n",
    "             'withcutouts': 'True'\n",
    "        }\n",
    "    )\n",
    "\n",
    "    # Format output in a DataFrame\n",
    "    pdf = pd.read_json(io.BytesIO(r.content))\n",
    "    \n",
    "    pdf.to_pickle('/media3/CRP7/hosts/data/SIMBAD/Apr2023/obj_info/finkclass=' + class_name +'/SIMBAD_Apr2023_batch_' + str(i) + '.pickle')"
   ]
  },
  {
   "cell_type": "code",
   "execution_count": null,
   "id": "0fc78092-52b5-4689-afdf-ecbf547264e8",
   "metadata": {},
   "outputs": [],
   "source": []
  }
 ],
 "metadata": {
  "kernelspec": {
   "display_name": "Python 3 (ipykernel)",
   "language": "python",
   "name": "python3"
  },
  "language_info": {
   "codemirror_mode": {
    "name": "ipython",
    "version": 3
   },
   "file_extension": ".py",
   "mimetype": "text/x-python",
   "name": "python",
   "nbconvert_exporter": "python",
   "pygments_lexer": "ipython3",
   "version": "3.10.10"
  }
 },
 "nbformat": 4,
 "nbformat_minor": 5
}
