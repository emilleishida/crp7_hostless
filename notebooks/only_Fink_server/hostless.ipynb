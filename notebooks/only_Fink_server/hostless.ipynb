{
 "cells": [
  {
   "cell_type": "code",
   "execution_count": 1,
   "id": "320c43d4",
   "metadata": {},
   "outputs": [
    {
     "name": "stderr",
     "output_type": "stream",
     "text": [
      "/opt/spark-3/python/pyspark/sql/pandas/functions.py:399: UserWarning: In Python 3.6+ and Spark 3.0+, it is preferred to specify type hints for pandas UDF instead of specifying pandas UDF type which will be deprecated in the future releases. See SPARK-28264 for more details.\n",
      "  warnings.warn(\n",
      "/opt/spark-3/python/pyspark/sql/pandas/functions.py:399: UserWarning: In Python 3.6+ and Spark 3.0+, it is preferred to specify type hints for pandas UDF instead of specifying pandas UDF type which will be deprecated in the future releases. See SPARK-28264 for more details.\n",
      "  warnings.warn(\n",
      "/opt/spark-3/python/pyspark/sql/pandas/functions.py:399: UserWarning: In Python 3.6+ and Spark 3.0+, it is preferred to specify type hints for pandas UDF instead of specifying pandas UDF type which will be deprecated in the future releases. See SPARK-28264 for more details.\n",
      "  warnings.warn(\n"
     ]
    }
   ],
   "source": [
    "import os\n",
    "\n",
    "import numpy as np\n",
    "\n",
    "from pyspark.sql import functions as F\n",
    "\n",
    "from fink_utils.spark.utils import concat_col\n",
    "\n",
    "from fink_filters.classification import extract_fink_classification\n",
    "\n",
    "from fink_science import __file__\n",
    "from fink_science.hostless_detection.processor import run_potential_hostless"
   ]
  },
  {
   "cell_type": "code",
   "execution_count": 2,
   "id": "d5981e8a",
   "metadata": {},
   "outputs": [
    {
     "name": "stderr",
     "output_type": "stream",
     "text": [
      "24/08/01 21:17:10 WARN package: Truncated the string representation of a plan since it was too large. This behavior can be adjusted by setting 'spark.sql.debug.maxToStringFields'.\n"
     ]
    }
   ],
   "source": [
    "# check https://fink-portal.org/stats for number of alerts per night\n",
    "# rule of thumb: about 2min processing for 150k incoming alerts\n",
    "df = spark.read.format('parquet').load('/user/julien.peloton/archive/science/year=2024/month=07/day=03')"
   ]
  },
  {
   "cell_type": "code",
   "execution_count": 3,
   "id": "c5ead43c",
   "metadata": {},
   "outputs": [],
   "source": [
    "# Retrieve time-series information\n",
    "to_expand = [\"magpsf\"]\n",
    "\n",
    "# Append temp columns with historical + current measurements\n",
    "prefix = \"c\"\n",
    "for colname in to_expand:\n",
    "    df = concat_col(df, colname, prefix=prefix)\n",
    "\n",
    "# Add classification\n",
    "cols = [\n",
    "    \"cdsxmatch\",\n",
    "    \"roid\",\n",
    "    \"mulens\",\n",
    "    \"snn_snia_vs_nonia\",\n",
    "    \"snn_sn_vs_all\",\n",
    "    \"rf_snia_vs_nonia\",\n",
    "    \"candidate.ndethist\",\n",
    "    \"candidate.drb\",\n",
    "    \"candidate.classtar\",\n",
    "    \"candidate.jd\",\n",
    "    \"candidate.jdstarthist\",\n",
    "    \"rf_kn_vs_nonkn\",\n",
    "    \"tracklet\",\n",
    "]\n",
    "df = df.withColumn(\"finkclass\", extract_fink_classification(*cols))\n",
    "\n",
    "# Add TNS classification -- fake for the moment\n",
    "df = df.withColumn(\"tnsclass\", F.lit(\"Unknown\"))\n",
    "\n",
    "# Add a new column\n",
    "df = df.withColumn(\n",
    "    \"kstest_static\",\n",
    "    run_potential_hostless(\n",
    "        df[\"cmagpsf\"],\n",
    "        df[\"cutoutScience.stampData\"],\n",
    "        df[\"cutoutTemplate.stampData\"],\n",
    "        df[\"snn_snia_vs_nonia\"],\n",
    "        df[\"snn_sn_vs_all\"],\n",
    "        df[\"rf_snia_vs_nonia\"],\n",
    "        df[\"rf_kn_vs_nonkn\"],\n",
    "        df[\"finkclass\"],\n",
    "        df[\"tnsclass\"],\n",
    "    ),\n",
    ")\n",
    "\n",
    "cols_ = [\n",
    "    \"objectId\",\n",
    "    \"candidate.candid\",\n",
    "    \"candidate.ra\",\n",
    "    \"candidate.dec\",\n",
    "    \"kstest_static\",\n",
    "    \"finkclass\",\n",
    "    \"tnsclass\",\n",
    "]"
   ]
  },
  {
   "cell_type": "code",
   "execution_count": 4,
   "id": "eb4113de",
   "metadata": {},
   "outputs": [
    {
     "name": "stderr",
     "output_type": "stream",
     "text": [
      "                                                                                \r"
     ]
    }
   ],
   "source": [
    "pdf = df.filter(df[\"kstest_static\"] >= 0).select(cols_).toPandas()"
   ]
  },
  {
   "cell_type": "markdown",
   "id": "7fa4ed34",
   "metadata": {},
   "source": [
    "## Inspect objects with p > 0.5"
   ]
  },
  {
   "cell_type": "code",
   "execution_count": 6,
   "id": "006ca439",
   "metadata": {},
   "outputs": [],
   "source": [
    "cond = pdf['kstest_static'] > 0.5"
   ]
  },
  {
   "cell_type": "code",
   "execution_count": 7,
   "id": "5ca3ec83",
   "metadata": {
    "scrolled": false
   },
   "outputs": [],
   "source": [
    "# hyperlinks\n",
    "def make_clickable(val):\n",
    "    if isinstance(val, str) and val.startswith('https'):\n",
    "        return '<a href=\"{}\" target=\"_blank\">{}</a>'.format(val,val)\n",
    "    else:\n",
    "        return val\n",
    "\n",
    "pdf['link'] = pdf['objectId'].apply(lambda x: \"https://fink-portal.org/{}\".format(x))"
   ]
  },
  {
   "cell_type": "code",
   "execution_count": 8,
   "id": "2727b826",
   "metadata": {},
   "outputs": [
    {
     "data": {
      "text/html": [
       "<style type=\"text/css\">\n",
       "</style>\n",
       "<table id=\"T_c81e8_\">\n",
       "  <thead>\n",
       "    <tr>\n",
       "      <th class=\"blank level0\" >&nbsp;</th>\n",
       "      <th class=\"col_heading level0 col0\" >objectId</th>\n",
       "      <th class=\"col_heading level0 col1\" >candid</th>\n",
       "      <th class=\"col_heading level0 col2\" >ra</th>\n",
       "      <th class=\"col_heading level0 col3\" >dec</th>\n",
       "      <th class=\"col_heading level0 col4\" >kstest_static</th>\n",
       "      <th class=\"col_heading level0 col5\" >finkclass</th>\n",
       "      <th class=\"col_heading level0 col6\" >tnsclass</th>\n",
       "      <th class=\"col_heading level0 col7\" >link</th>\n",
       "    </tr>\n",
       "  </thead>\n",
       "  <tbody>\n",
       "    <tr>\n",
       "      <th id=\"T_c81e8_level0_row0\" class=\"row_heading level0 row0\" >30</th>\n",
       "      <td id=\"T_c81e8_row0_col0\" class=\"data row0 col0\" >ZTF24aatkhem</td>\n",
       "      <td id=\"T_c81e8_row0_col1\" class=\"data row0 col1\" >2740464224215015008</td>\n",
       "      <td id=\"T_c81e8_row0_col2\" class=\"data row0 col2\" >10.4167253</td>\n",
       "      <td id=\"T_c81e8_row0_col3\" class=\"data row0 col3\" >41.0889359</td>\n",
       "      <td id=\"T_c81e8_row0_col4\" class=\"data row0 col4\" >0.9720603227615356</td>\n",
       "      <td id=\"T_c81e8_row0_col5\" class=\"data row0 col5\" >SN candidate</td>\n",
       "      <td id=\"T_c81e8_row0_col6\" class=\"data row0 col6\" >Unknown</td>\n",
       "      <td id=\"T_c81e8_row0_col7\" class=\"data row0 col7\" ><a href=\"https://fink-portal.org/ZTF24aatkhem\" target=\"_blank\">https://fink-portal.org/ZTF24aatkhem</a></td>\n",
       "    </tr>\n",
       "    <tr>\n",
       "      <th id=\"T_c81e8_level0_row1\" class=\"row_heading level0 row1\" >32</th>\n",
       "      <td id=\"T_c81e8_row1_col0\" class=\"data row1 col0\" >ZTF21aaeklcv</td>\n",
       "      <td id=\"T_c81e8_row1_col1\" class=\"data row1 col1\" >2740279035415010003</td>\n",
       "      <td id=\"T_c81e8_row1_col2\" class=\"data row1 col2\" >236.0524739</td>\n",
       "      <td id=\"T_c81e8_row1_col3\" class=\"data row1 col3\" >35.6793517</td>\n",
       "      <td id=\"T_c81e8_row1_col4\" class=\"data row1 col4\" >0.9328643083572388</td>\n",
       "      <td id=\"T_c81e8_row1_col5\" class=\"data row1 col5\" >QSO</td>\n",
       "      <td id=\"T_c81e8_row1_col6\" class=\"data row1 col6\" >Unknown</td>\n",
       "      <td id=\"T_c81e8_row1_col7\" class=\"data row1 col7\" ><a href=\"https://fink-portal.org/ZTF21aaeklcv\" target=\"_blank\">https://fink-portal.org/ZTF21aaeklcv</a></td>\n",
       "    </tr>\n",
       "    <tr>\n",
       "      <th id=\"T_c81e8_level0_row2\" class=\"row_heading level0 row2\" >43</th>\n",
       "      <td id=\"T_c81e8_row2_col0\" class=\"data row2 col0\" >ZTF24aakzgdx</td>\n",
       "      <td id=\"T_c81e8_row2_col1\" class=\"data row2 col1\" >2740359461915015011</td>\n",
       "      <td id=\"T_c81e8_row2_col2\" class=\"data row2 col2\" >314.3541633</td>\n",
       "      <td id=\"T_c81e8_row2_col3\" class=\"data row2 col3\" >17.1282602</td>\n",
       "      <td id=\"T_c81e8_row2_col4\" class=\"data row2 col4\" >0.9601256251335144</td>\n",
       "      <td id=\"T_c81e8_row2_col5\" class=\"data row2 col5\" >SN candidate</td>\n",
       "      <td id=\"T_c81e8_row2_col6\" class=\"data row2 col6\" >Unknown</td>\n",
       "      <td id=\"T_c81e8_row2_col7\" class=\"data row2 col7\" ><a href=\"https://fink-portal.org/ZTF24aakzgdx\" target=\"_blank\">https://fink-portal.org/ZTF24aakzgdx</a></td>\n",
       "    </tr>\n",
       "    <tr>\n",
       "      <th id=\"T_c81e8_level0_row3\" class=\"row_heading level0 row3\" >51</th>\n",
       "      <td id=\"T_c81e8_row3_col0\" class=\"data row3 col0\" >ZTF24aakajtn</td>\n",
       "      <td id=\"T_c81e8_row3_col1\" class=\"data row3 col1\" >2740310062415015017</td>\n",
       "      <td id=\"T_c81e8_row3_col2\" class=\"data row3 col2\" >277.3991144</td>\n",
       "      <td id=\"T_c81e8_row3_col3\" class=\"data row3 col3\" >39.8539871</td>\n",
       "      <td id=\"T_c81e8_row3_col4\" class=\"data row3 col4\" >0.7202261090278625</td>\n",
       "      <td id=\"T_c81e8_row3_col5\" class=\"data row3 col5\" >Ambiguous</td>\n",
       "      <td id=\"T_c81e8_row3_col6\" class=\"data row3 col6\" >Unknown</td>\n",
       "      <td id=\"T_c81e8_row3_col7\" class=\"data row3 col7\" ><a href=\"https://fink-portal.org/ZTF24aakajtn\" target=\"_blank\">https://fink-portal.org/ZTF24aakajtn</a></td>\n",
       "    </tr>\n",
       "    <tr>\n",
       "      <th id=\"T_c81e8_level0_row4\" class=\"row_heading level0 row4\" >55</th>\n",
       "      <td id=\"T_c81e8_row4_col0\" class=\"data row4 col0\" >ZTF19aasbgti</td>\n",
       "      <td id=\"T_c81e8_row4_col1\" class=\"data row4 col1\" >2740226013515010006</td>\n",
       "      <td id=\"T_c81e8_row4_col2\" class=\"data row4 col2\" >216.1296592</td>\n",
       "      <td id=\"T_c81e8_row4_col3\" class=\"data row4 col3\" >33.3993399</td>\n",
       "      <td id=\"T_c81e8_row4_col4\" class=\"data row4 col4\" >0.5330150723457336</td>\n",
       "      <td id=\"T_c81e8_row4_col5\" class=\"data row4 col5\" >QSO</td>\n",
       "      <td id=\"T_c81e8_row4_col6\" class=\"data row4 col6\" >Unknown</td>\n",
       "      <td id=\"T_c81e8_row4_col7\" class=\"data row4 col7\" ><a href=\"https://fink-portal.org/ZTF19aasbgti\" target=\"_blank\">https://fink-portal.org/ZTF19aasbgti</a></td>\n",
       "    </tr>\n",
       "    <tr>\n",
       "      <th id=\"T_c81e8_level0_row5\" class=\"row_heading level0 row5\" >56</th>\n",
       "      <td id=\"T_c81e8_row5_col0\" class=\"data row5 col0\" >ZTF24aaowjlw</td>\n",
       "      <td id=\"T_c81e8_row5_col1\" class=\"data row5 col1\" >2740228875515015006</td>\n",
       "      <td id=\"T_c81e8_row5_col2\" class=\"data row5 col2\" >227.5384667</td>\n",
       "      <td id=\"T_c81e8_row5_col3\" class=\"data row5 col3\" >6.7517049</td>\n",
       "      <td id=\"T_c81e8_row5_col4\" class=\"data row5 col4\" >0.5710803866386414</td>\n",
       "      <td id=\"T_c81e8_row5_col5\" class=\"data row5 col5\" >Ambiguous</td>\n",
       "      <td id=\"T_c81e8_row5_col6\" class=\"data row5 col6\" >Unknown</td>\n",
       "      <td id=\"T_c81e8_row5_col7\" class=\"data row5 col7\" ><a href=\"https://fink-portal.org/ZTF24aaowjlw\" target=\"_blank\">https://fink-portal.org/ZTF24aaowjlw</a></td>\n",
       "    </tr>\n",
       "    <tr>\n",
       "      <th id=\"T_c81e8_level0_row6\" class=\"row_heading level0 row6\" >57</th>\n",
       "      <td id=\"T_c81e8_row6_col0\" class=\"data row6 col0\" >ZTF19aalexbk</td>\n",
       "      <td id=\"T_c81e8_row6_col1\" class=\"data row6 col1\" >2740283555015010001</td>\n",
       "      <td id=\"T_c81e8_row6_col2\" class=\"data row6 col2\" >279.7213208</td>\n",
       "      <td id=\"T_c81e8_row6_col3\" class=\"data row6 col3\" >64.5399733</td>\n",
       "      <td id=\"T_c81e8_row6_col4\" class=\"data row6 col4\" >0.9290452003479004</td>\n",
       "      <td id=\"T_c81e8_row6_col5\" class=\"data row6 col5\" >QSO</td>\n",
       "      <td id=\"T_c81e8_row6_col6\" class=\"data row6 col6\" >Unknown</td>\n",
       "      <td id=\"T_c81e8_row6_col7\" class=\"data row6 col7\" ><a href=\"https://fink-portal.org/ZTF19aalexbk\" target=\"_blank\">https://fink-portal.org/ZTF19aalexbk</a></td>\n",
       "    </tr>\n",
       "    <tr>\n",
       "      <th id=\"T_c81e8_level0_row7\" class=\"row_heading level0 row7\" >60</th>\n",
       "      <td id=\"T_c81e8_row7_col0\" class=\"data row7 col0\" >ZTF24aaowjlw</td>\n",
       "      <td id=\"T_c81e8_row7_col1\" class=\"data row7 col1\" >2740233395515015021</td>\n",
       "      <td id=\"T_c81e8_row7_col2\" class=\"data row7 col2\" >227.5384588</td>\n",
       "      <td id=\"T_c81e8_row7_col3\" class=\"data row7 col3\" >6.7516818</td>\n",
       "      <td id=\"T_c81e8_row7_col4\" class=\"data row7 col4\" >0.7418844103813171</td>\n",
       "      <td id=\"T_c81e8_row7_col5\" class=\"data row7 col5\" >Ambiguous</td>\n",
       "      <td id=\"T_c81e8_row7_col6\" class=\"data row7 col6\" >Unknown</td>\n",
       "      <td id=\"T_c81e8_row7_col7\" class=\"data row7 col7\" ><a href=\"https://fink-portal.org/ZTF24aaowjlw\" target=\"_blank\">https://fink-portal.org/ZTF24aaowjlw</a></td>\n",
       "    </tr>\n",
       "    <tr>\n",
       "      <th id=\"T_c81e8_level0_row8\" class=\"row_heading level0 row8\" >63</th>\n",
       "      <td id=\"T_c81e8_row8_col0\" class=\"data row8 col0\" >ZTF18aayagtm</td>\n",
       "      <td id=\"T_c81e8_row8_col1\" class=\"data row8 col1\" >2740279032815010000</td>\n",
       "      <td id=\"T_c81e8_row8_col2\" class=\"data row8 col2\" >232.9445569</td>\n",
       "      <td id=\"T_c81e8_row8_col3\" class=\"data row8 col3\" >32.9527269</td>\n",
       "      <td id=\"T_c81e8_row8_col4\" class=\"data row8 col4\" >0.6627889275550842</td>\n",
       "      <td id=\"T_c81e8_row8_col5\" class=\"data row8 col5\" >QSO</td>\n",
       "      <td id=\"T_c81e8_row8_col6\" class=\"data row8 col6\" >Unknown</td>\n",
       "      <td id=\"T_c81e8_row8_col7\" class=\"data row8 col7\" ><a href=\"https://fink-portal.org/ZTF18aayagtm\" target=\"_blank\">https://fink-portal.org/ZTF18aayagtm</a></td>\n",
       "    </tr>\n",
       "    <tr>\n",
       "      <th id=\"T_c81e8_level0_row9\" class=\"row_heading level0 row9\" >72</th>\n",
       "      <td id=\"T_c81e8_row9_col0\" class=\"data row9 col0\" >ZTF24aakajtn</td>\n",
       "      <td id=\"T_c81e8_row9_col1\" class=\"data row9 col1\" >2740345752415015023</td>\n",
       "      <td id=\"T_c81e8_row9_col2\" class=\"data row9 col2\" >277.3991432</td>\n",
       "      <td id=\"T_c81e8_row9_col3\" class=\"data row9 col3\" >39.8540027</td>\n",
       "      <td id=\"T_c81e8_row9_col4\" class=\"data row9 col4\" >0.6275628209114075</td>\n",
       "      <td id=\"T_c81e8_row9_col5\" class=\"data row9 col5\" >Ambiguous</td>\n",
       "      <td id=\"T_c81e8_row9_col6\" class=\"data row9 col6\" >Unknown</td>\n",
       "      <td id=\"T_c81e8_row9_col7\" class=\"data row9 col7\" ><a href=\"https://fink-portal.org/ZTF24aakajtn\" target=\"_blank\">https://fink-portal.org/ZTF24aakajtn</a></td>\n",
       "    </tr>\n",
       "    <tr>\n",
       "      <th id=\"T_c81e8_level0_row10\" class=\"row_heading level0 row10\" >87</th>\n",
       "      <td id=\"T_c81e8_row10_col0\" class=\"data row10 col0\" >ZTF18aauenwu</td>\n",
       "      <td id=\"T_c81e8_row10_col1\" class=\"data row10 col1\" >2740341851515010037</td>\n",
       "      <td id=\"T_c81e8_row10_col2\" class=\"data row10 col2\" >289.8946323</td>\n",
       "      <td id=\"T_c81e8_row10_col3\" class=\"data row10 col3\" >44.0339584</td>\n",
       "      <td id=\"T_c81e8_row10_col4\" class=\"data row10 col4\" >0.9543969631195068</td>\n",
       "      <td id=\"T_c81e8_row10_col5\" class=\"data row10 col5\" >SN</td>\n",
       "      <td id=\"T_c81e8_row10_col6\" class=\"data row10 col6\" >Unknown</td>\n",
       "      <td id=\"T_c81e8_row10_col7\" class=\"data row10 col7\" ><a href=\"https://fink-portal.org/ZTF18aauenwu\" target=\"_blank\">https://fink-portal.org/ZTF18aauenwu</a></td>\n",
       "    </tr>\n",
       "    <tr>\n",
       "      <th id=\"T_c81e8_level0_row11\" class=\"row_heading level0 row11\" >90</th>\n",
       "      <td id=\"T_c81e8_row11_col0\" class=\"data row11 col0\" >ZTF19abkncst</td>\n",
       "      <td id=\"T_c81e8_row11_col1\" class=\"data row11 col1\" >2740276675415010001</td>\n",
       "      <td id=\"T_c81e8_row11_col2\" class=\"data row11 col2\" >222.5968778</td>\n",
       "      <td id=\"T_c81e8_row11_col3\" class=\"data row11 col3\" >14.3727187</td>\n",
       "      <td id=\"T_c81e8_row11_col4\" class=\"data row11 col4\" >0.8041960000991821</td>\n",
       "      <td id=\"T_c81e8_row11_col5\" class=\"data row11 col5\" >QSO</td>\n",
       "      <td id=\"T_c81e8_row11_col6\" class=\"data row11 col6\" >Unknown</td>\n",
       "      <td id=\"T_c81e8_row11_col7\" class=\"data row11 col7\" ><a href=\"https://fink-portal.org/ZTF19abkncst\" target=\"_blank\">https://fink-portal.org/ZTF19abkncst</a></td>\n",
       "    </tr>\n",
       "    <tr>\n",
       "      <th id=\"T_c81e8_level0_row12\" class=\"row_heading level0 row12\" >99</th>\n",
       "      <td id=\"T_c81e8_row12_col0\" class=\"data row12 col0\" >ZTF18aabybkt</td>\n",
       "      <td id=\"T_c81e8_row12_col1\" class=\"data row12 col1\" >2740198885715010003</td>\n",
       "      <td id=\"T_c81e8_row12_col2\" class=\"data row12 col2\" >207.1697363</td>\n",
       "      <td id=\"T_c81e8_row12_col3\" class=\"data row12 col3\" >43.4183921</td>\n",
       "      <td id=\"T_c81e8_row12_col4\" class=\"data row12 col4\" >0.9142965078353882</td>\n",
       "      <td id=\"T_c81e8_row12_col5\" class=\"data row12 col5\" >SN</td>\n",
       "      <td id=\"T_c81e8_row12_col6\" class=\"data row12 col6\" >Unknown</td>\n",
       "      <td id=\"T_c81e8_row12_col7\" class=\"data row12 col7\" ><a href=\"https://fink-portal.org/ZTF18aabybkt\" target=\"_blank\">https://fink-portal.org/ZTF18aabybkt</a></td>\n",
       "    </tr>\n",
       "    <tr>\n",
       "      <th id=\"T_c81e8_level0_row13\" class=\"row_heading level0 row13\" >102</th>\n",
       "      <td id=\"T_c81e8_row13_col0\" class=\"data row13 col0\" >ZTF21abcwutj</td>\n",
       "      <td id=\"T_c81e8_row13_col1\" class=\"data row13 col1\" >2740279030015010005</td>\n",
       "      <td id=\"T_c81e8_row13_col2\" class=\"data row13 col2\" >238.7421312</td>\n",
       "      <td id=\"T_c81e8_row13_col3\" class=\"data row13 col3\" >31.0892017</td>\n",
       "      <td id=\"T_c81e8_row13_col4\" class=\"data row13 col4\" >0.5907537937164307</td>\n",
       "      <td id=\"T_c81e8_row13_col5\" class=\"data row13 col5\" >QSO</td>\n",
       "      <td id=\"T_c81e8_row13_col6\" class=\"data row13 col6\" >Unknown</td>\n",
       "      <td id=\"T_c81e8_row13_col7\" class=\"data row13 col7\" ><a href=\"https://fink-portal.org/ZTF21abcwutj\" target=\"_blank\">https://fink-portal.org/ZTF21abcwutj</a></td>\n",
       "    </tr>\n",
       "    <tr>\n",
       "      <th id=\"T_c81e8_level0_row14\" class=\"row_heading level0 row14\" >104</th>\n",
       "      <td id=\"T_c81e8_row14_col0\" class=\"data row14 col0\" >ZTF19aadgnud</td>\n",
       "      <td id=\"T_c81e8_row14_col1\" class=\"data row14 col1\" >2740222214815010004</td>\n",
       "      <td id=\"T_c81e8_row14_col2\" class=\"data row14 col2\" >241.7905131</td>\n",
       "      <td id=\"T_c81e8_row14_col3\" class=\"data row14 col3\" >58.0062297</td>\n",
       "      <td id=\"T_c81e8_row14_col4\" class=\"data row14 col4\" >0.5735678672790527</td>\n",
       "      <td id=\"T_c81e8_row14_col5\" class=\"data row14 col5\" >QSO</td>\n",
       "      <td id=\"T_c81e8_row14_col6\" class=\"data row14 col6\" >Unknown</td>\n",
       "      <td id=\"T_c81e8_row14_col7\" class=\"data row14 col7\" ><a href=\"https://fink-portal.org/ZTF19aadgnud\" target=\"_blank\">https://fink-portal.org/ZTF19aadgnud</a></td>\n",
       "    </tr>\n",
       "    <tr>\n",
       "      <th id=\"T_c81e8_level0_row15\" class=\"row_heading level0 row15\" >106</th>\n",
       "      <td id=\"T_c81e8_row15_col0\" class=\"data row15 col0\" >ZTF24aatkhem</td>\n",
       "      <td id=\"T_c81e8_row15_col1\" class=\"data row15 col1\" >2740448434215015007</td>\n",
       "      <td id=\"T_c81e8_row15_col2\" class=\"data row15 col2\" >10.4167395</td>\n",
       "      <td id=\"T_c81e8_row15_col3\" class=\"data row15 col3\" >41.0889459</td>\n",
       "      <td id=\"T_c81e8_row15_col4\" class=\"data row15 col4\" >0.9887437224388123</td>\n",
       "      <td id=\"T_c81e8_row15_col5\" class=\"data row15 col5\" >SN candidate</td>\n",
       "      <td id=\"T_c81e8_row15_col6\" class=\"data row15 col6\" >Unknown</td>\n",
       "      <td id=\"T_c81e8_row15_col7\" class=\"data row15 col7\" ><a href=\"https://fink-portal.org/ZTF24aatkhem\" target=\"_blank\">https://fink-portal.org/ZTF24aatkhem</a></td>\n",
       "    </tr>\n",
       "  </tbody>\n",
       "</table>\n"
      ],
      "text/plain": [
       "<pandas.io.formats.style.Styler at 0x7fa3652ed4f0>"
      ]
     },
     "execution_count": 8,
     "metadata": {},
     "output_type": "execute_result"
    }
   ],
   "source": [
    "pdf[cond].style.format(make_clickable)"
   ]
  },
  {
   "cell_type": "markdown",
   "id": "9a7d8eef",
   "metadata": {},
   "source": [
    "## Inspect templates"
   ]
  },
  {
   "cell_type": "code",
   "execution_count": 65,
   "id": "27679b89",
   "metadata": {
    "scrolled": false
   },
   "outputs": [
    {
     "name": "stdout",
     "output_type": "stream",
     "text": [
      "ZTF24aatkhem: 0.97\n"
     ]
    },
    {
     "data": {
      "image/png": "[encoded data removed]",
      "text/plain": [
       "<PIL.Image.Image image mode=L size=120x120>"
      ]
     },
     "metadata": {},
     "output_type": "display_data"
    },
    {
     "name": "stdout",
     "output_type": "stream",
     "text": [
      "ZTF21aaeklcv: 0.93\n"
     ]
    },
    {
     "data": {
      "image/png": "[encoded data removed]",
      "text/plain": [
       "<PIL.Image.Image image mode=L size=120x120>"
      ]
     },
     "metadata": {},
     "output_type": "display_data"
    },
    {
     "name": "stdout",
     "output_type": "stream",
     "text": [
      "ZTF24aakzgdx: 0.96\n"
     ]
    },
    {
     "data": {
      "image/png": "[encoded data removed]",
      "text/plain": [
       "<PIL.Image.Image image mode=L size=120x120>"
      ]
     },
     "metadata": {},
     "output_type": "display_data"
    },
    {
     "name": "stdout",
     "output_type": "stream",
     "text": [
      "ZTF24aakajtn: 0.72\n"
     ]
    },
    {
     "data": {
      "image/png": "[encoded data removed]",
      "text/plain": [
       "<PIL.Image.Image image mode=L size=120x120>"
      ]
     },
     "metadata": {},
     "output_type": "display_data"
    },
    {
     "name": "stdout",
     "output_type": "stream",
     "text": [
      "ZTF19aasbgti: 0.53\n"
     ]
    },
    {
     "data": {
      "image/png": "[encoded data removed]",
      "text/plain": [
       "<PIL.Image.Image image mode=L size=120x120>"
      ]
     },
     "metadata": {},
     "output_type": "display_data"
    },
    {
     "name": "stdout",
     "output_type": "stream",
     "text": [
      "ZTF24aaowjlw: 0.57\n"
     ]
    },
    {
     "data": {
      "image/png": "[encoded data removed]",
      "text/plain": [
       "<PIL.Image.Image image mode=L size=120x120>"
      ]
     },
     "metadata": {},
     "output_type": "display_data"
    },
    {
     "name": "stdout",
     "output_type": "stream",
     "text": [
      "ZTF19aalexbk: 0.93\n"
     ]
    },
    {
     "data": {
      "image/png": "[encoded data removed]",
      "text/plain": [
       "<PIL.Image.Image image mode=L size=120x120>"
      ]
     },
     "metadata": {},
     "output_type": "display_data"
    },
    {
     "name": "stdout",
     "output_type": "stream",
     "text": [
      "ZTF24aaowjlw: 0.74\n"
     ]
    },
    {
     "data": {
      "image/png": "[encoded data removed]",
      "text/plain": [
       "<PIL.Image.Image image mode=L size=120x120>"
      ]
     },
     "metadata": {},
     "output_type": "display_data"
    },
    {
     "name": "stdout",
     "output_type": "stream",
     "text": [
      "ZTF18aayagtm: 0.66\n"
     ]
    },
    {
     "data": {
      "image/png": "[encoded data removed]",
      "text/plain": [
       "<PIL.Image.Image image mode=L size=120x120>"
      ]
     },
     "metadata": {},
     "output_type": "display_data"
    },
    {
     "name": "stdout",
     "output_type": "stream",
     "text": [
      "ZTF24aakajtn: 0.63\n"
     ]
    },
    {
     "data": {
      "image/png": "[encoded data removed]",
      "text/plain": [
       "<PIL.Image.Image image mode=L size=120x120>"
      ]
     },
     "metadata": {},
     "output_type": "display_data"
    },
    {
     "name": "stdout",
     "output_type": "stream",
     "text": [
      "ZTF18aauenwu: 0.95\n"
     ]
    },
    {
     "data": {
      "image/png": "[encoded data removed]",
      "text/plain": [
       "<PIL.Image.Image image mode=L size=120x120>"
      ]
     },
     "metadata": {},
     "output_type": "display_data"
    },
    {
     "name": "stdout",
     "output_type": "stream",
     "text": [
      "ZTF19aasbrme: 0.51\n"
     ]
    },
    {
     "data": {
      "image/png": "[encoded data removed]",
      "text/plain": [
       "<PIL.Image.Image image mode=L size=120x120>"
      ]
     },
     "metadata": {},
     "output_type": "display_data"
    },
    {
     "name": "stdout",
     "output_type": "stream",
     "text": [
      "ZTF19abkncst: 0.74\n"
     ]
    },
    {
     "data": {
      "image/png": "[encoded data removed]",
      "text/plain": [
       "<PIL.Image.Image image mode=L size=120x120>"
      ]
     },
     "metadata": {},
     "output_type": "display_data"
    },
    {
     "name": "stdout",
     "output_type": "stream",
     "text": [
      "ZTF18aabybkt: 0.91\n"
     ]
    },
    {
     "data": {
      "image/png": "[encoded data removed]",
      "text/plain": [
       "<PIL.Image.Image image mode=L size=120x120>"
      ]
     },
     "metadata": {},
     "output_type": "display_data"
    },
    {
     "name": "stdout",
     "output_type": "stream",
     "text": [
      "ZTF21abcwutj: 0.59\n"
     ]
    },
    {
     "data": {
      "image/png": "[encoded data removed]",
      "text/plain": [
       "<PIL.Image.Image image mode=L size=120x120>"
      ]
     },
     "metadata": {},
     "output_type": "display_data"
    },
    {
     "name": "stdout",
     "output_type": "stream",
     "text": [
      "ZTF24aatkhem: 0.98\n"
     ]
    },
    {
     "data": {
      "image/png": "[encoded data removed]",
      "text/plain": [
       "<PIL.Image.Image image mode=L size=120x120>"
      ]
     },
     "metadata": {},
     "output_type": "display_data"
    },
    {
     "name": "stdout",
     "output_type": "stream",
     "text": [
      "ZTF18abnyhxn: 0.85\n"
     ]
    },
    {
     "data": {
      "image/png": "[encoded data removed]",
      "text/plain": [
       "<PIL.Image.Image image mode=L size=120x120>"
      ]
     },
     "metadata": {},
     "output_type": "display_data"
    }
   ],
   "source": [
    "import io\n",
    "import requests\n",
    "from PIL import Image as im\n",
    "import time\n",
    "\n",
    "objectIds = pdf[cond][\"objectId\"]\n",
    "candids = pdf[cond][\"candid\"]\n",
    "scores = pdf[cond]['kstest_static']\n",
    "for objid, candid, score in zip(objectIds, candids, scores):\n",
    "    print(\"{}: {:.2f}\".format(objid, score))\n",
    "    r = requests.post(\n",
    "        'https://fink-portal.org/api/v1/cutouts',\n",
    "        json={\n",
    "            'objectId': objid,\n",
    "            'candid': candid,\n",
    "            'kind': 'Template',\n",
    "        }\n",
    "    )\n",
    "\n",
    "    image = im.open(io.BytesIO(r.content))\n",
    "    display(image.resize((120, 120)))\n"
   ]
  }
 ],
 "metadata": {
  "hide_input": false,
  "kernelspec": {
   "display_name": "Python 3 (ipykernel)",
   "language": "python",
   "name": "python3"
  },
  "language_info": {
   "codemirror_mode": {
    "name": "ipython",
    "version": 3
   },
   "file_extension": ".py",
   "mimetype": "text/x-python",
   "name": "python",
   "nbconvert_exporter": "python",
   "pygments_lexer": "ipython3",
   "version": "3.9.13"
  }
 },
 "nbformat": 4,
 "nbformat_minor": 5
}
