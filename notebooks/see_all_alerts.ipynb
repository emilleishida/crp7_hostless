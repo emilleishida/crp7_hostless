{
 "cells": [
  {
   "cell_type": "code",
   "execution_count": null,
   "id": "8f8ed206-f3ff-4818-8eb9-bd097330bb37",
   "metadata": {},
   "outputs": [],
   "source": [
    "import pandas as pd\n",
    "import matplotlib.pylab as plt\n",
    "import numpy as np\n",
    "import glob"
   ]
  },
  {
   "cell_type": "code",
   "execution_count": null,
   "id": "211be7cb-aa3e-4a8f-9d1b-8997bdc77fac",
   "metadata": {},
   "outputs": [],
   "source": [
    "# read data from the download service -- alert-based\n",
    "\n",
    "dirname = \"/media3/CRP7/hosts/data/TNS/Apr2023/ftransfer_ztf_2023-08-30_761838/\"\n",
    "data_all = pd.read_parquet(dirname)"
   ]
  },
  {
   "cell_type": "code",
   "execution_count": null,
   "id": "fad1b292-33ba-4ff6-8d20-5b590473124f",
   "metadata": {},
   "outputs": [],
   "source": [
    "# choose object id\n",
    "name = 'ZTF19adczgih'"
   ]
  },
  {
   "cell_type": "code",
   "execution_count": null,
   "id": "1bf07b70-2e44-4225-a9bf-8ea78b6559b3",
   "metadata": {},
   "outputs": [],
   "source": [
    "# this will take a long time\n",
    "flist = glob.glob('/media3/CRP7/hosts/data/TNS/Apr2023/obj_info/*.pickle')\n",
    "\n",
    "data_list = []\n",
    "for fname in flist:\n",
    "    data_temp = pd.read_pickle(fname)\n",
    "    data_list.append(data_temp)\n",
    "\n",
    "data_pd = pd.concat(data_list, ignore_index=True)"
   ]
  },
  {
   "cell_type": "code",
   "execution_count": null,
   "id": "8f8c84f3-1e98-455f-8bf2-71ccc458d578",
   "metadata": {},
   "outputs": [],
   "source": [
    "list(data_pd.keys())"
   ]
  },
  {
   "cell_type": "code",
   "execution_count": null,
   "id": "93701034-a4be-473c-a056-04e2f0574d87",
   "metadata": {},
   "outputs": [],
   "source": [
    "data_pd.shape"
   ]
  },
  {
   "cell_type": "code",
   "execution_count": null,
   "id": "de3fad29-56a1-401c-a771-76dce8a1db20",
   "metadata": {},
   "outputs": [],
   "source": [
    "x = data_pd[data_pd['i:objectId'].values == name]['i:jd'].values\n",
    "y = data_pd[data_pd['i:objectId'].values == name]['i:magpsf'].values\n",
    "yerr = data_pd[data_pd['i:objectId'].values == name]['i:sigmapsf'].values\n",
    "fid = data_pd[data_pd['i:objectId'].values == name]['i:fid'].values"
   ]
  },
  {
   "cell_type": "code",
   "execution_count": null,
   "id": "4991f323-340d-4481-841b-a64a9f43cf93",
   "metadata": {},
   "outputs": [],
   "source": [
    "plt.figure(figsize=[16,5])\n",
    "\n",
    "for i in range(1,3):\n",
    "    plt.subplot(1,2, i)\n",
    "    flag = fid == i\n",
    "    plt.errorbar(x[flag], y[flag], yerr=yerr[flag], fmt='o')\n",
    "    plt.xlabel('JD')\n",
    "    plt.ylabel('magpsf')\n",
    "\n",
    "plt.show()"
   ]
  },
  {
   "cell_type": "code",
   "execution_count": null,
   "id": "c741c24b-c306-435f-bc24-40c6333827d7",
   "metadata": {},
   "outputs": [],
   "source": [
    "columns = [\n",
    "    'b:cutoutScience_stampData',\n",
    "    'b:cutoutTemplate_stampData',\n",
    "    'b:cutoutDifference_stampData'\n",
    "]\n",
    "\n",
    "stamps = data_pd[data_pd['i:objectId'].values == name]"
   ]
  },
  {
   "cell_type": "code",
   "execution_count": null,
   "id": "e61c4065-0522-4c72-930b-ac0f91f3712f",
   "metadata": {},
   "outputs": [],
   "source": [
    "np.unique(stamps['d:mangrove_2MASS_name'].values, return_counts=True)"
   ]
  },
  {
   "cell_type": "code",
   "execution_count": null,
   "id": "1d5122fa-4398-4000-8260-f5feafc8a0e5",
   "metadata": {},
   "outputs": [],
   "source": [
    "flag_stamps = np.array([str(stamps['d:mangrove_2MASS_name'].values[i]) for i in range(stamps.shape[0])]) == 'nan'"
   ]
  },
  {
   "cell_type": "code",
   "execution_count": null,
   "id": "b810a7c0-23c4-45c3-99ad-9667b21c651b",
   "metadata": {},
   "outputs": [],
   "source": [
    "np.unique(flag_stamps, return_counts=True)"
   ]
  },
  {
   "cell_type": "code",
   "execution_count": null,
   "id": "6af76de9-2848-46bc-a106-5568fd8f42b7",
   "metadata": {},
   "outputs": [],
   "source": [
    "title = ['Science', 'Template', 'Difference']\n",
    "\n",
    "# select a random alert\n",
    "for indx in np.arange(stamps.shape[0])[~flag_stamps]:\n",
    "    \n",
    "    fig, axes = plt.subplots(1,3, figsize=(15,5))\n",
    "    objid = stamps.iloc[indx]['i:objectId']\n",
    "    fwhm = str(round(stamps.iloc[indx]['i:fwhm'], 3))\n",
    "    aimage = str(round(stamps.iloc[indx]['i:aimage'], 3))\n",
    "    bimage = str(round(stamps.iloc[indx]['i:bimage'], 3))\n",
    "    isdiffpos = str(bool(stamps.iloc[indx]['i:isdiffpos']))\n",
    "    classname = str(stamps.iloc[indx]['v:classification'])\n",
    "    \n",
    "    fig.suptitle('indx: ' + str(indx) + '  -  ' + objid + ' ; ' + classname + '\\n  fwhm = ' + fwhm + ', ' + \\\n",
    "                'aimage: ' + aimage + ',  bimage: ' + bimage + ', isdiffpos: ' + isdiffpos)\n",
    "\n",
    "    for i,ax in enumerate(axes.flat):\n",
    "        ax.set_title(title[i])\n",
    "        data = np.array(stamps[columns[i]].values[indx])\n",
    "\n",
    "        ax.imshow(data.astype(float))\n",
    "\n",
    "    plt.show()"
   ]
  },
  {
   "cell_type": "code",
   "execution_count": null,
   "id": "e47fff23-5fd1-45b0-90e0-b29cb0755d79",
   "metadata": {},
   "outputs": [],
   "source": [
    "# plot positions\n",
    "ra = stamps['i:ra'].values\n",
    "dec = stamps['i:dec'].values\n",
    "\n",
    "\n",
    "plt.figure(figsize=(8,5))\n",
    "plt.scatter(ra[flag_stamps], dec[flag_stamps], label='nan')\n",
    "plt.scatter(ra[~flag_stamps], dec[~flag_stamps], label='number')\n",
    "\n",
    "plt.xlabel('ra')\n",
    "plt.ylabel('dec')\n",
    "plt.legend()\n",
    "plt.show()\n",
    "\n"
   ]
  },
  {
   "cell_type": "code",
   "execution_count": null,
   "id": "4bda1405-6460-4e54-af45-34ac884944ee",
   "metadata": {},
   "outputs": [],
   "source": []
  }
 ],
 "metadata": {
  "kernelspec": {
   "display_name": "Python 3 (ipykernel)",
   "language": "python",
   "name": "python3"
  },
  "language_info": {
   "codemirror_mode": {
    "name": "ipython",
    "version": 3
   },
   "file_extension": ".py",
   "mimetype": "text/x-python",
   "name": "python",
   "nbconvert_exporter": "python",
   "pygments_lexer": "ipython3",
   "version": "3.10.10"
  }
 },
 "nbformat": 4,
 "nbformat_minor": 5
}
