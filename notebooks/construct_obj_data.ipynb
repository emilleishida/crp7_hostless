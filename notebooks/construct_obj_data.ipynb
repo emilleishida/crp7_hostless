{
 "cells": [
  {
   "cell_type": "code",
   "execution_count": 1,
   "id": "71713893-a8e8-4f00-b115-35b51e720415",
   "metadata": {},
   "outputs": [],
   "source": [
    "import numpy as np\n",
    "import pandas as pd\n",
    "from copy import deepcopy\n",
    "from glob import glob\n",
    "from progressbar import progressbar"
   ]
  },
  {
   "cell_type": "code",
   "execution_count": 2,
   "id": "fb9f05b8-9ae2-49f7-93d8-0606fb204db1",
   "metadata": {},
   "outputs": [],
   "source": [
    "# read data from the download service -- alert-based\n",
    "\n",
    "class_name = 'RSCVn'\n",
    "dirname = \"/media3/CRP7/hosts/data/SIMBAD/Apr2023/ftransfer_ztf_2023-08-31_137151/finkclass=\" + class_name + \"/\"\n",
    "data_all = pd.read_parquet(dirname)\n",
    "data_all['class'] = class_name"
   ]
  },
  {
   "cell_type": "code",
   "execution_count": 3,
   "id": "9a18394f-de5c-48a2-917b-3c48e108b9f6",
   "metadata": {},
   "outputs": [
    {
     "data": {
      "text/plain": [
       "(2401, 38)"
      ]
     },
     "execution_count": 3,
     "metadata": {},
     "output_type": "execute_result"
    }
   ],
   "source": [
    "data_all.shape"
   ]
  },
  {
   "cell_type": "code",
   "execution_count": 4,
   "id": "279f6ff9-4817-4e1a-bf32-c0e1fa194733",
   "metadata": {},
   "outputs": [],
   "source": [
    "# get objectId \n",
    "objid_list = list(np.unique(data_all['objectId'].values))"
   ]
  },
  {
   "cell_type": "code",
   "execution_count": 5,
   "id": "b684e3dc-f435-4481-b126-e24b389f1dd0",
   "metadata": {},
   "outputs": [
    {
     "data": {
      "text/plain": [
       "525"
      ]
     },
     "execution_count": 5,
     "metadata": {},
     "output_type": "execute_result"
    }
   ],
   "source": [
    "len(objid_list)"
   ]
  },
  {
   "cell_type": "code",
   "execution_count": 6,
   "id": "808737fc-5a30-4409-a8d5-95252cbdf226",
   "metadata": {},
   "outputs": [
    {
     "name": "stderr",
     "output_type": "stream",
     "text": [
      "  0% (0 of 46) |                         | Elapsed Time: 0:00:00 ETA:  --:--:--"
     ]
    },
    {
     "name": "stdout",
     "output_type": "stream",
     "text": [
      "finkclass=RSCVn\n",
      "RSCVn\n"
     ]
    },
    {
     "name": "stderr",
     "output_type": "stream",
     "text": [
      "100% (46 of 46) |########################| Elapsed Time: 0:01:02 Time:  0:01:02\n",
      "100% (170 of 170) |######################| Elapsed Time: 0:00:01 Time:  0:00:01\n"
     ]
    },
    {
     "name": "stdout",
     "output_type": "stream",
     "text": [
      "(340, 158)\n"
     ]
    }
   ],
   "source": [
    "dirs = ['finkclass=' + class_name]\n",
    "\n",
    "\n",
    "for i in range(1):#len(dirs)-2):\n",
    "    \n",
    "    print(dirs[i])\n",
    "    class_name = dirs[i][dirs[i].index('=') + 1:]\n",
    "    print(class_name)\n",
    "    \n",
    "    flist_temp = glob('/media3/CRP7/hosts/data/SIMBAD/Apr2023/obj_info/' + dirs[i] + '/SIMBAD*.pickle')\n",
    "\n",
    "    data_list = []\n",
    "    for fname in progressbar(flist_temp):\n",
    "        data_temp = pd.read_pickle(fname)\n",
    "        data_temp['class'] = dirs[i][dirs[i].index('=') + 1:]\n",
    "        data_list.append(data_temp)\n",
    "\n",
    "    data_pd = pd.concat(data_list, ignore_index=True)\n",
    "\n",
    "    objid_list = np.unique(data_pd['i:objectId'].values)\n",
    "\n",
    "    data_keep = []\n",
    "    \n",
    "    for id in progressbar(objid_list):\n",
    "        data_temp2 = deepcopy(data_pd[data_pd['i:objectId'].values == id])\n",
    "\n",
    "        indx_min = np.arange(data_temp2.shape[0])[data_temp2['i:jd'].values == min(data_temp2['i:jd'])][0]\n",
    "        indx_max = np.arange(data_temp2.shape[0])[data_temp2['i:jd'].values == max(data_temp2['i:jd'])][0]\n",
    "    \n",
    "        data_keep.append(data_temp2[np.arange(data_temp2.shape[0]) == indx_min])\n",
    "        data_keep.append(data_temp2[np.arange(data_temp2.shape[0]) == indx_max])\n",
    "\n",
    "    data_store = pd.concat(data_keep, ignore_index=True)\n",
    "    print(data_store.shape)\n",
    "    data_store.to_pickle('/media3/CRP7/hosts/data/SIMBAD/Apr2023/obj_info/objects_' + class_name + '.pkl')\n",
    "    "
   ]
  },
  {
   "cell_type": "code",
   "execution_count": 7,
   "id": "a6a57382-1e37-425d-882c-638e6734ed7a",
   "metadata": {},
   "outputs": [
    {
     "data": {
      "text/plain": [
       "340"
      ]
     },
     "execution_count": 7,
     "metadata": {},
     "output_type": "execute_result"
    }
   ],
   "source": [
    "len(objid_list)*2"
   ]
  },
  {
   "cell_type": "code",
   "execution_count": null,
   "id": "1dbe3e3e-48d8-493a-acf2-55d5311d8cfe",
   "metadata": {},
   "outputs": [],
   "source": []
  },
  {
   "cell_type": "code",
   "execution_count": null,
   "id": "cadb0088-0387-48ac-b4d5-f98fb7e87bb3",
   "metadata": {},
   "outputs": [],
   "source": []
  }
 ],
 "metadata": {
  "kernelspec": {
   "display_name": "Python 3 (ipykernel)",
   "language": "python",
   "name": "python3"
  },
  "language_info": {
   "codemirror_mode": {
    "name": "ipython",
    "version": 3
   },
   "file_extension": ".py",
   "mimetype": "text/x-python",
   "name": "python",
   "nbconvert_exporter": "python",
   "pygments_lexer": "ipython3",
   "version": "3.10.10"
  }
 },
 "nbformat": 4,
 "nbformat_minor": 5
}
