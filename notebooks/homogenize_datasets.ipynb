{
 "cells": [
  {
   "cell_type": "markdown",
   "id": "811de342-84d9-4db9-9de8-9e942b31b49d",
   "metadata": {},
   "source": [
    "## Data storage\n",
    "\n",
    "Data from this notebook will be stored at : `/media3/CRP7/hosts/data/homogenized`\n",
    "\n",
    "## Data Format\n",
    "\n",
    "The columns available in the alert package are described [here](https://fink-portal.org/api/v1/columns). \n",
    "\n",
    "Further explanation about the schema is given by ZTF [in this document](https://irsa.ipac.caltech.edu/data/ZTF/docs/ztf_explanatory_supplement.pdf). "
   ]
  },
  {
   "cell_type": "markdown",
   "id": "26868bdd-2d11-4c77-bbc2-827401ed5fcb",
   "metadata": {},
   "source": [
    "Meaning of columns (full list [here](https://fink-portal.org/api/v1/columns)):\n",
    "\n",
    "fwhm:  \"Full Width Half Max assuming a Gaussian core, from SExtractor (pixels)\"  \n",
    "aimage:  \"Windowed profile RMS afloat minor axis from SExtractor (pixels)\"  \n",
    "bimage: \"Windowed profile RMS afloat minor axis from SExtractor (pixels)\"  \n",
    "isdiffpos: \"t or 1 => candidate is from positive (sci minus ref) subtraction; f or 0 => candidate is from negative (ref minus sci) subtraction\"  "
   ]
  },
  {
   "cell_type": "markdown",
   "id": "6e46eab7-f23a-457a-9b2d-61c009a3c457",
   "metadata": {},
   "source": [
    "## Read the object-based files and combine into same format for TNS, SIMBAD, SPICY"
   ]
  },
  {
   "cell_type": "code",
   "execution_count": null,
   "id": "d2ea6c01-e18d-4c0c-a2f7-64f294397d3e",
   "metadata": {},
   "outputs": [],
   "source": [
    "import io\n",
    "import gzip\n",
    "import copy\n",
    "import re\n",
    "import os\n",
    "\n",
    "import pandas as pd\n",
    "import numpy as np\n",
    "import matplotlib.pylab as plt\n",
    "import astropy.io.fits as fits\n",
    "\n",
    "from pathlib import Path\n",
    "from datetime import datetime\n",
    "from concurrent.futures import ProcessPoolExecutor\n",
    "from itertools import repeat"
   ]
  },
  {
   "cell_type": "code",
   "execution_count": null,
   "id": "a3a74440-0672-4655-9eeb-fa4ded156b53",
   "metadata": {},
   "outputs": [],
   "source": [
    "TIME_SERIES_COLUMNS = [\n",
    "    'i:aimage',\n",
    "    'i:aimagerat',\n",
    "    'i:bimage',\n",
    "    'i:bimagerat',\n",
    "    'i:candid',\n",
    "    'i:chinr',\n",
    "    'i:chipsf',\n",
    "    'i:classtar',\n",
    "    'i:dec',\n",
    "    'i:fid',\n",
    "    'i:fwhm',\n",
    "    'i:isdiffpos',\n",
    "    'i:jd',\n",
    "    'i:maggaia',\n",
    "    'i:maggaiabright',\n",
    "    'i:magpsf',\n",
    "    'i:neargaia',\n",
    "    'i:neargaiabright',\n",
    "    'i:ra',\n",
    "    'i:sigmapsf',\n",
    "    'v:classification',\n",
    "]\n",
    "\n",
    "STAMP_COLUMNS = [\n",
    "    'b:cutoutScience_stampData',\n",
    "    'b:cutoutTemplate_stampData',\n",
    "    'b:cutoutDifference_stampData',\n",
    "]"
   ]
  },
  {
   "cell_type": "code",
   "execution_count": null,
   "id": "78141e28-dd0b-4310-9efe-ea0683a1686e",
   "metadata": {},
   "outputs": [],
   "source": [
    "def process_simbad_tns_pickle(path_obj):\n",
    "    df = pd.read_pickle(str(path_obj))\n",
    "    \n",
    "    id_col = 'i:objectId'\n",
    "    ts_df = df[[id_col] + TIME_SERIES_COLUMNS].groupby(id_col, as_index=False).aggregate(tuple)\n",
    "    for col in TIME_SERIES_COLUMNS:\n",
    "        ts_df[col] = ts_df[col].apply(np.array)\n",
    "    \n",
    "    jd_groupby = df[[id_col, 'i:jd']].groupby(id_col)\n",
    "    first_df = df.loc[jd_groupby.idxmin().values.flatten(), [id_col] + STAMP_COLUMNS]\n",
    "    last_df = df.loc[jd_groupby.idxmax().values.flatten(), [id_col] + STAMP_COLUMNS]\n",
    "    for col in STAMP_COLUMNS:\n",
    "        first_df[col] = first_df[col].apply(np.array)\n",
    "        last_df[col] = last_df[col].apply(np.array)\n",
    "    first_df = first_df.rename(columns={col: f'{col}_first' for col in STAMP_COLUMNS})\n",
    "    last_df = last_df.rename(columns={col: f'{col}_last' for col in STAMP_COLUMNS})\n",
    "    \n",
    "    obj_df = ts_df.merge(first_df, on=id_col).merge(last_df, on=id_col)\n",
    "    return obj_df\n"
   ]
  },
  {
   "cell_type": "code",
   "execution_count": null,
   "id": "9f8072cd-3103-46d8-9feb-842fa7962796",
   "metadata": {},
   "outputs": [],
   "source": [
    "print(f'Started processing at {datetime.now()}')\n",
    "tns_path_objs = Path('/media3/CRP7/hosts/data/TNS/Apr2023/obj_info').glob('TNS*.pickle')\n",
    "with ProcessPoolExecutor(max_workers=8) as executor:\n",
    "    obj_df_iterator = executor.map(process_simbad_tns_pickle, tns_path_objs, repeat(False))\n",
    "    xmatch_tns = pd.concat(obj_df_iterator, ignore_index=True)\n",
    "print(f'Finished processing at {datetime.now()}')"
   ]
  },
  {
   "cell_type": "code",
   "execution_count": null,
   "id": "5043d6ca-0c1d-4cfb-933f-7957f61b69f7",
   "metadata": {},
   "outputs": [],
   "source": [
    "xmatch_tns.shape"
   ]
  },
  {
   "cell_type": "code",
   "execution_count": null,
   "id": "02cdbdd9-227c-4a85-a619-90174d3cb787",
   "metadata": {},
   "outputs": [],
   "source": [
    "print(f'Started processing at {datetime.now()}')\n",
    "simbad_path_objs = Path('/media3/CRP7/hosts/data/SIMBAD/Apr2023/obj_info').glob('finkclass=*/*.pickle')\n",
    "with ProcessPoolExecutor(max_workers=8) as executor:\n",
    "    obj_df_iterator = executor.map(process_simbad_tns_pickle, simbad_path_objs)\n",
    "    xmatch_simbad = pd.concat(obj_df_iterator, ignore_index=True)\n",
    "print(f'Finished processing at {datetime.now()}')"
   ]
  },
  {
   "cell_type": "code",
   "execution_count": null,
   "id": "0e2dddde-d284-4b5d-a49e-6bcff553029b",
   "metadata": {},
   "outputs": [],
   "source": [
    "xmatch_simbad.shape"
   ]
  },
  {
   "cell_type": "code",
   "execution_count": null,
   "id": "e61ed177-1f97-44b5-9d7d-7f9fcd64a882",
   "metadata": {},
   "outputs": [],
   "source": [
    "xmatch_spicy = pd.read_parquet('/media3/CRP7/hosts/data/SPICY/SPICY_CROSSMATCHED_2_ASEC_SMALL/')"
   ]
  },
  {
   "cell_type": "code",
   "execution_count": null,
   "id": "8b0d020d-d4a9-4768-b2a8-2b3330a930f9",
   "metadata": {},
   "outputs": [],
   "source": [
    "def read_spicy_fits_image(bytes_str):\n",
    "    hdu_list = fits.open(gzip.open(io.BytesIO(bytes_str)))\n",
    "    primary_hdu = hdu_list[0]\n",
    "    return primary_hdu.data"
   ]
  },
  {
   "cell_type": "code",
   "execution_count": null,
   "id": "7788254f-b7eb-4308-a5a7-097e98c07636",
   "metadata": {},
   "outputs": [],
   "source": [
    "def homogenize_spicy_df(xmatch_spicy):\n",
    "    for col in STAMP_COLUMNS:\n",
    "        orig_col = f'{col}_small'\n",
    "        xmatch_spicy[f'{col}_first'] = xmatch_spicy[orig_col].apply(lambda x: read_spicy_fits_image(x[0]))\n",
    "    for col in STAMP_COLUMNS:\n",
    "        orig_col = f'{col}_small'\n",
    "        xmatch_spicy[f'{col}_last'] = xmatch_spicy[orig_col].apply(lambda x: read_spicy_fits_image(x[-1]))\n",
    "        xmatch_spicy = xmatch_spicy.drop(columns=[orig_col])\n",
    "    xmatch_spicy = xmatch_spicy.rename(columns={'objectId': 'i:objectId'})\n",
    "    return xmatch_spicy"
   ]
  },
  {
   "cell_type": "code",
   "execution_count": null,
   "id": "da93ee80-6f4b-468f-9edb-3b257b3d6768",
   "metadata": {},
   "outputs": [],
   "source": [
    "xmatch_spicy = homogenize_spicy_df(xmatch_spicy)\n",
    "xmatch_spicy.shape"
   ]
  },
  {
   "cell_type": "code",
   "execution_count": null,
   "id": "94a05bcb-8351-4936-9b59-3b04f3519069",
   "metadata": {},
   "outputs": [],
   "source": [
    "output_folder = '/media3/CRP7/hosts/data/homogenized/'\n",
    "os.makedirs(output_folder, exist_ok=True)\n",
    "with open(os.path.join(output_folder, 'tns.pkl'), 'wb') as out_file:\n",
    "    xmatch_tns.to_pickle(out_file)\n",
    "with open(os.path.join(output_folder, 'simbad.pkl'), 'wb') as out_file:\n",
    "    xmatch_simbad.to_pickle(out_file)\n",
    "with open(os.path.join(output_folder, 'spicy.pkl'), 'wb') as out_file:\n",
    "    xmatch_spicy.to_pickle(out_file)"
   ]
  }
 ],
 "metadata": {
  "kernelspec": {
   "display_name": "Python 3 (ipykernel)",
   "language": "python",
   "name": "python3"
  },
  "language_info": {
   "codemirror_mode": {
    "name": "ipython",
    "version": 3
   },
   "file_extension": ".py",
   "mimetype": "text/x-python",
   "name": "python",
   "nbconvert_exporter": "python",
   "pygments_lexer": "ipython3",
   "version": "3.10.10"
  }
 },
 "nbformat": 4,
 "nbformat_minor": 5
}
