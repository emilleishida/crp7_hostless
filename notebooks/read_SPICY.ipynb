{
 "cells": [
  {
   "cell_type": "code",
   "execution_count": null,
   "id": "2367d775-a051-4d29-bb22-f1e62d04e22f",
   "metadata": {},
   "outputs": [],
   "source": [
    "import pandas as pd\n",
    "import numpy as np\n",
    "import matplotlib.pylab as plt\n",
    "import io\n",
    "import gzip\n",
    "import astropy.io.fits as fits"
   ]
  },
  {
   "cell_type": "code",
   "execution_count": null,
   "id": "400806cb-6f5a-49f5-b56a-9647fc7c4c2d",
   "metadata": {},
   "outputs": [],
   "source": [
    "xmatch_spicy = pd.read_parquet('/media3/CRP7/hosts/data/SPICY/SPICY_CROSSMATCHED_2_ASEC_SMALL/')"
   ]
  },
  {
   "cell_type": "code",
   "execution_count": null,
   "id": "0af19276-e140-4874-950d-cf597080a849",
   "metadata": {},
   "outputs": [],
   "source": [
    "xmatch_spicy.columns"
   ]
  },
  {
   "cell_type": "code",
   "execution_count": null,
   "id": "5d370f40-1bf9-4e51-9752-5b0786d898fa",
   "metadata": {},
   "outputs": [],
   "source": [
    "# number of stamps set to plot\n",
    "n_to_plot = 30\n",
    "\n",
    "# select a random alert\n",
    "random_object_indices = np.random.choice(np.arange(xmatch_spicy.shape[0]), size=n_to_plot, replace=False)"
   ]
  },
  {
   "cell_type": "code",
   "execution_count": null,
   "id": "ba269d7a-6462-4de1-bf83-e745c1935dfc",
   "metadata": {
    "scrolled": true
   },
   "outputs": [],
   "source": [
    "def read_spicy_fits_hdu(xmatch_spicy, column, object_indx, get_last_stamp):\n",
    "    if get_last_stamp:\n",
    "        stamp_id = -1\n",
    "    else:\n",
    "        stamp_id = 0\n",
    "    bytes_str = xmatch_spicy[column].values[object_indx][stamp_id]\n",
    "    hdu_list = fits.open(gzip.open(io.BytesIO(bytes_str)))\n",
    "    primary_hdu = hdu_list[0]\n",
    "    return primary_hdu\n",
    "\n",
    "def plot_object_cutouts(xmatch_spicy, object_indices, get_last_stamp=False):\n",
    "    columns = [\n",
    "        'b:cutoutScience_stampData_small',\n",
    "        'b:cutoutTemplate_stampData_small',\n",
    "        'b:cutoutDifference_stampData_small'\n",
    "    ]\n",
    "    title = ['Science', 'Template', 'Difference']\n",
    "\n",
    "    for indx in object_indices:\n",
    "        fig, axes = plt.subplots(1,3, figsize=(15,5))\n",
    "        objid = xmatch_spicy.iloc[indx]['objectId']\n",
    "        fwhm = str(round(xmatch_spicy.iloc[indx]['i:fwhm'][0], 3))\n",
    "        aimage = str(round(xmatch_spicy.iloc[indx]['i:aimage'][0], 3))\n",
    "        bimage = str(round(xmatch_spicy.iloc[indx]['i:bimage'][0], 3))\n",
    "        isdiffpos = str(bool(xmatch_spicy.iloc[indx]['i:isdiffpos'][0]))\n",
    "        classname = str(xmatch_spicy.iloc[indx]['v:classification'][0])\n",
    "        \n",
    "        fig.suptitle('indx: ' + str(indx) + '  -  ' + objid + ' ; ' + classname + '\\n  fwhm = ' + fwhm + ', ' + \\\n",
    "                    'aimage: ' + aimage + ',  bimage: ' + bimage + ', isdiffpos: ' + isdiffpos)\n",
    "    \n",
    "        for i,ax in enumerate(axes.flat):\n",
    "            ax.set_title(title[i])\n",
    "\n",
    "            hdu = read_spicy_fits_hdu(xmatch_spicy, columns[i], indx, get_last_stamp)\n",
    "            ax.imshow(hdu.data.astype(float))\n",
    "    \n",
    "        plt.show()\n"
   ]
  },
  {
   "cell_type": "code",
   "execution_count": null,
   "id": "a5e2e916-b185-4ac8-8531-777f00c01c51",
   "metadata": {
    "scrolled": true
   },
   "outputs": [],
   "source": [
    "plot_object_cutouts(xmatch_spicy, random_object_indices, get_last_stamp=True)"
   ]
  },
  {
   "cell_type": "code",
   "execution_count": null,
   "id": "2991e316-9e12-4fd8-a279-477b45a932db",
   "metadata": {
    "scrolled": true
   },
   "outputs": [],
   "source": [
    "plot_object_cutouts(xmatch_spicy, random_object_indices, get_last_stamp=False)"
   ]
  },
  {
   "cell_type": "code",
   "execution_count": null,
   "id": "4d64ae7a-fa84-4458-bff3-8f12dd6ed096",
   "metadata": {},
   "outputs": [],
   "source": []
  }
 ],
 "metadata": {
  "kernelspec": {
   "display_name": "Python 3 (ipykernel)",
   "language": "python",
   "name": "python3"
  },
  "language_info": {
   "codemirror_mode": {
    "name": "ipython",
    "version": 3
   },
   "file_extension": ".py",
   "mimetype": "text/x-python",
   "name": "python",
   "nbconvert_exporter": "python",
   "pygments_lexer": "ipython3",
   "version": "3.10.10"
  }
 },
 "nbformat": 4,
 "nbformat_minor": 5
}
